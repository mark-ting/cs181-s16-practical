{
 "cells": [
  {
   "cell_type": "code",
   "execution_count": 41,
   "metadata": {
    "collapsed": false
   },
   "outputs": [],
   "source": [
    "import pandas as pd\n",
    "import numpy as np\n",
    "import matplotlib.pyplot as plt\n",
    "from sklearn.linear_model import LinearRegression\n",
    "from sklearn.ensemble import RandomForestRegressor\n",
    "from sklearn.feature_selection import VarianceThreshold\n",
    "import math\n",
    "import copy"
   ]
  },
  {
   "cell_type": "code",
   "execution_count": 42,
   "metadata": {
    "collapsed": false
   },
   "outputs": [],
   "source": [
    "\"\"\"\n",
    "Read in train and test as Pandas DataFrames\n",
    "\"\"\"\n",
    "# df_train = pd.read_csv(\"train.csv\")\n",
    "# df_test = pd.read_csv(\"test.csv\")\n",
    "\n",
    "dftrain1 = pd.read_csv(\"train.csv\")\n",
    "\n",
    "dftest1 = pd.read_csv(\"test.csv\")\n",
    "dftrain1 = dftrain1.drop(['smiles'], axis=1)\n"
   ]
  },
  {
   "cell_type": "code",
   "execution_count": 43,
   "metadata": {
    "collapsed": false
   },
   "outputs": [],
   "source": [
    "dfgap = dftrain1['gap']\n",
    "dftrain1 = dftrain1.drop(['gap'], axis = 1)\n",
    "# dftest1 = dftest1.drop(['smiles'], axis = 1)\n",
    "# dftest1 = dftest1.drop(['Id'], axis = 1)\n",
    "sel = VarianceThreshold(threshold=(.9 * (1 - .9)))\n",
    "dftrain1 = pd.DataFrame(sel.fit_transform(dftrain1))\n",
    "# dftest1 = pd.DataFrame(sel.fit_transform(dftest1))\n",
    "desired_features = sel.get_support(True)\n"
   ]
  },
  {
   "cell_type": "code",
   "execution_count": 44,
   "metadata": {
    "collapsed": false
   },
   "outputs": [
    {
     "data": {
      "text/plain": [
       "['feat_001',\n",
       " 'feat_006',\n",
       " 'feat_025',\n",
       " 'feat_037',\n",
       " 'feat_068',\n",
       " 'feat_069',\n",
       " 'feat_072',\n",
       " 'feat_087',\n",
       " 'feat_090',\n",
       " 'feat_102',\n",
       " 'feat_119',\n",
       " 'feat_123',\n",
       " 'feat_173',\n",
       " 'feat_187',\n",
       " 'feat_218',\n",
       " 'feat_225',\n",
       " 'feat_243',\n",
       " 'feat_251']"
      ]
     },
     "execution_count": 44,
     "metadata": {},
     "output_type": "execute_result"
    }
   ],
   "source": [
    "newdesired_features=[]\n",
    "for elem in list(desired_features+1):\n",
    "    if elem<10:\n",
    "        newElem=\"feat_00\"+str(elem)\n",
    "    elif elem<100:\n",
    "        newElem=\"feat_0\"+str(elem)\n",
    "    else:\n",
    "        newElem=\"feat_\"+str(elem)\n",
    "    newdesired_features.append(newElem)\n",
    "    \n",
    "newdesired_features"
   ]
  },
  {
   "cell_type": "code",
   "execution_count": 45,
   "metadata": {
    "collapsed": true
   },
   "outputs": [],
   "source": [
    "dftrain1.columns=newdesired_features"
   ]
  },
  {
   "cell_type": "code",
   "execution_count": 46,
   "metadata": {
    "collapsed": false
   },
   "outputs": [
    {
     "data": {
      "text/html": [
       "<div>\n",
       "<table border=\"1\" class=\"dataframe\">\n",
       "  <thead>\n",
       "    <tr style=\"text-align: right;\">\n",
       "      <th></th>\n",
       "      <th>feat_001</th>\n",
       "      <th>feat_006</th>\n",
       "      <th>feat_025</th>\n",
       "      <th>feat_037</th>\n",
       "      <th>feat_068</th>\n",
       "      <th>feat_069</th>\n",
       "      <th>feat_072</th>\n",
       "      <th>feat_087</th>\n",
       "      <th>feat_090</th>\n",
       "      <th>feat_102</th>\n",
       "      <th>feat_119</th>\n",
       "      <th>feat_123</th>\n",
       "      <th>feat_173</th>\n",
       "      <th>feat_187</th>\n",
       "      <th>feat_218</th>\n",
       "      <th>feat_225</th>\n",
       "      <th>feat_243</th>\n",
       "      <th>feat_251</th>\n",
       "    </tr>\n",
       "  </thead>\n",
       "  <tbody>\n",
       "    <tr>\n",
       "      <th>0</th>\n",
       "      <td>0</td>\n",
       "      <td>0</td>\n",
       "      <td>0</td>\n",
       "      <td>0</td>\n",
       "      <td>1</td>\n",
       "      <td>0</td>\n",
       "      <td>1</td>\n",
       "      <td>0</td>\n",
       "      <td>1</td>\n",
       "      <td>0</td>\n",
       "      <td>1</td>\n",
       "      <td>0</td>\n",
       "      <td>0</td>\n",
       "      <td>0</td>\n",
       "      <td>0</td>\n",
       "      <td>0</td>\n",
       "      <td>0</td>\n",
       "      <td>0</td>\n",
       "    </tr>\n",
       "    <tr>\n",
       "      <th>1</th>\n",
       "      <td>1</td>\n",
       "      <td>0</td>\n",
       "      <td>1</td>\n",
       "      <td>1</td>\n",
       "      <td>0</td>\n",
       "      <td>1</td>\n",
       "      <td>1</td>\n",
       "      <td>0</td>\n",
       "      <td>1</td>\n",
       "      <td>1</td>\n",
       "      <td>0</td>\n",
       "      <td>0</td>\n",
       "      <td>1</td>\n",
       "      <td>1</td>\n",
       "      <td>1</td>\n",
       "      <td>0</td>\n",
       "      <td>0</td>\n",
       "      <td>1</td>\n",
       "    </tr>\n",
       "    <tr>\n",
       "      <th>2</th>\n",
       "      <td>1</td>\n",
       "      <td>1</td>\n",
       "      <td>0</td>\n",
       "      <td>1</td>\n",
       "      <td>1</td>\n",
       "      <td>1</td>\n",
       "      <td>1</td>\n",
       "      <td>1</td>\n",
       "      <td>1</td>\n",
       "      <td>0</td>\n",
       "      <td>1</td>\n",
       "      <td>1</td>\n",
       "      <td>1</td>\n",
       "      <td>0</td>\n",
       "      <td>0</td>\n",
       "      <td>0</td>\n",
       "      <td>1</td>\n",
       "      <td>0</td>\n",
       "    </tr>\n",
       "    <tr>\n",
       "      <th>3</th>\n",
       "      <td>1</td>\n",
       "      <td>1</td>\n",
       "      <td>1</td>\n",
       "      <td>0</td>\n",
       "      <td>1</td>\n",
       "      <td>0</td>\n",
       "      <td>0</td>\n",
       "      <td>1</td>\n",
       "      <td>1</td>\n",
       "      <td>1</td>\n",
       "      <td>0</td>\n",
       "      <td>1</td>\n",
       "      <td>1</td>\n",
       "      <td>0</td>\n",
       "      <td>1</td>\n",
       "      <td>0</td>\n",
       "      <td>1</td>\n",
       "      <td>0</td>\n",
       "    </tr>\n",
       "    <tr>\n",
       "      <th>4</th>\n",
       "      <td>0</td>\n",
       "      <td>0</td>\n",
       "      <td>0</td>\n",
       "      <td>0</td>\n",
       "      <td>0</td>\n",
       "      <td>0</td>\n",
       "      <td>1</td>\n",
       "      <td>0</td>\n",
       "      <td>1</td>\n",
       "      <td>0</td>\n",
       "      <td>1</td>\n",
       "      <td>0</td>\n",
       "      <td>0</td>\n",
       "      <td>0</td>\n",
       "      <td>0</td>\n",
       "      <td>0</td>\n",
       "      <td>0</td>\n",
       "      <td>0</td>\n",
       "    </tr>\n",
       "  </tbody>\n",
       "</table>\n",
       "</div>"
      ],
      "text/plain": [
       "   feat_001  feat_006  feat_025  feat_037  feat_068  feat_069  feat_072  feat_087  feat_090  feat_102  feat_119  feat_123  feat_173  feat_187  feat_218  feat_225  feat_243  feat_251\n",
       "0         0         0         0         0         1         0         1         0         1         0         1         0         0         0         0         0         0         0\n",
       "1         1         0         1         1         0         1         1         0         1         1         0         0         1         1         1         0         0         1\n",
       "2         1         1         0         1         1         1         1         1         1         0         1         1         1         0         0         0         1         0\n",
       "3         1         1         1         0         1         0         0         1         1         1         0         1         1         0         1         0         1         0\n",
       "4         0         0         0         0         0         0         1         0         1         0         1         0         0         0         0         0         0         0"
      ]
     },
     "execution_count": 46,
     "metadata": {},
     "output_type": "execute_result"
    }
   ],
   "source": [
    "dftrain1.head()"
   ]
  },
  {
   "cell_type": "code",
   "execution_count": 47,
   "metadata": {
    "collapsed": true
   },
   "outputs": [],
   "source": [
    "predesired_features=newdesired_features\n",
    "# predesired_features.append('gap')"
   ]
  },
  {
   "cell_type": "code",
   "execution_count": 48,
   "metadata": {
    "collapsed": false
   },
   "outputs": [],
   "source": [
    "# dftrain1\n"
   ]
  },
  {
   "cell_type": "code",
   "execution_count": 49,
   "metadata": {
    "collapsed": false
   },
   "outputs": [
    {
     "data": {
      "text/plain": [
       "['feat_001',\n",
       " 'feat_006',\n",
       " 'feat_025',\n",
       " 'feat_037',\n",
       " 'feat_068',\n",
       " 'feat_069',\n",
       " 'feat_072',\n",
       " 'feat_087',\n",
       " 'feat_090',\n",
       " 'feat_102',\n",
       " 'feat_119',\n",
       " 'feat_123',\n",
       " 'feat_173',\n",
       " 'feat_187',\n",
       " 'feat_218',\n",
       " 'feat_225',\n",
       " 'feat_243',\n",
       " 'feat_251']"
      ]
     },
     "execution_count": 49,
     "metadata": {},
     "output_type": "execute_result"
    }
   ],
   "source": [
    "# dftrain1['feat_251']\n",
    "predesired_features"
   ]
  },
  {
   "cell_type": "code",
   "execution_count": 50,
   "metadata": {
    "collapsed": false
   },
   "outputs": [],
   "source": [
    "# cols = dftrain1.columns\n",
    "# colnames = []\n",
    "# for i in xrange(0, len(cols)):\n",
    "#     colnames.append('feat_' + str(i + 1).zfill(3))\n",
    "# dftrain1.columns = colnames\n",
    "# dftrain1=dftrain1[predesired_features]"
   ]
  },
  {
   "cell_type": "code",
   "execution_count": 51,
   "metadata": {
    "collapsed": false
   },
   "outputs": [],
   "source": [
    "# # simple model\n",
    "# xvarssimple=list(dftrain1.columns)[0:len(list(dftrain1.columns))-1]\n",
    "# formulasimple = str(\"gap ~ \") + str(xvarssimple[0])\n",
    "# count = 0\n",
    "# for xvar in xvarssimple:\n",
    "#     if count > 0:\n",
    "#         formulasimple = formulasimple + \"+\" + str(xvar)\n",
    "#     count = count + 1\n",
    "\n",
    "# print formulasimple"
   ]
  },
  {
   "cell_type": "code",
   "execution_count": 52,
   "metadata": {
    "collapsed": false
   },
   "outputs": [
    {
     "name": "stdout",
     "output_type": "stream",
     "text": [
      "gap ~ feat_001+feat_006+feat_025+feat_037+feat_068+feat_069+feat_072+feat_087+feat_090+feat_102+feat_119+feat_123+feat_173+feat_187+feat_218+feat_225+feat_243+feat_251\n"
     ]
    }
   ],
   "source": [
    "# simple model\n",
    "# xvarssimple=list(dftrain1.columns)[0:len(list(dftrain1.columns))-1]\n",
    "formulasimple = str(\"gap ~ \") + str(predesired_features[0])\n",
    "count = 0\n",
    "for xvar in predesired_features:\n",
    "    if count > 0:\n",
    "        formulasimple = formulasimple + \"+\" + str(xvar)\n",
    "    count = count + 1\n",
    "\n",
    "print formulasimple"
   ]
  },
  {
   "cell_type": "code",
   "execution_count": null,
   "metadata": {
    "collapsed": false
   },
   "outputs": [],
   "source": []
  },
  {
   "cell_type": "code",
   "execution_count": 53,
   "metadata": {
    "collapsed": false
   },
   "outputs": [],
   "source": [
    "# remainingidsweek[\"0\"]\n",
    "dftrain1['gap'] = dfgap\n",
    "dftrain1['id']=list(dftrain1.index)"
   ]
  },
  {
   "cell_type": "code",
   "execution_count": 54,
   "metadata": {
    "collapsed": false
   },
   "outputs": [
    {
     "data": {
      "text/html": [
       "<div>\n",
       "<table border=\"1\" class=\"dataframe\">\n",
       "  <thead>\n",
       "    <tr style=\"text-align: right;\">\n",
       "      <th></th>\n",
       "      <th>feat_001</th>\n",
       "      <th>feat_006</th>\n",
       "      <th>feat_025</th>\n",
       "      <th>feat_037</th>\n",
       "      <th>feat_068</th>\n",
       "      <th>feat_069</th>\n",
       "      <th>feat_072</th>\n",
       "      <th>feat_087</th>\n",
       "      <th>feat_090</th>\n",
       "      <th>feat_102</th>\n",
       "      <th>feat_119</th>\n",
       "      <th>feat_123</th>\n",
       "      <th>feat_173</th>\n",
       "      <th>feat_187</th>\n",
       "      <th>feat_218</th>\n",
       "      <th>feat_225</th>\n",
       "      <th>feat_243</th>\n",
       "      <th>feat_251</th>\n",
       "      <th>gap</th>\n",
       "      <th>id</th>\n",
       "    </tr>\n",
       "  </thead>\n",
       "  <tbody>\n",
       "    <tr>\n",
       "      <th>0</th>\n",
       "      <td>0</td>\n",
       "      <td>0</td>\n",
       "      <td>0</td>\n",
       "      <td>0</td>\n",
       "      <td>1</td>\n",
       "      <td>0</td>\n",
       "      <td>1</td>\n",
       "      <td>0</td>\n",
       "      <td>1</td>\n",
       "      <td>0</td>\n",
       "      <td>1</td>\n",
       "      <td>0</td>\n",
       "      <td>0</td>\n",
       "      <td>0</td>\n",
       "      <td>0</td>\n",
       "      <td>0</td>\n",
       "      <td>0</td>\n",
       "      <td>0</td>\n",
       "      <td>1.19</td>\n",
       "      <td>0</td>\n",
       "    </tr>\n",
       "    <tr>\n",
       "      <th>1</th>\n",
       "      <td>1</td>\n",
       "      <td>0</td>\n",
       "      <td>1</td>\n",
       "      <td>1</td>\n",
       "      <td>0</td>\n",
       "      <td>1</td>\n",
       "      <td>1</td>\n",
       "      <td>0</td>\n",
       "      <td>1</td>\n",
       "      <td>1</td>\n",
       "      <td>0</td>\n",
       "      <td>0</td>\n",
       "      <td>1</td>\n",
       "      <td>1</td>\n",
       "      <td>1</td>\n",
       "      <td>0</td>\n",
       "      <td>0</td>\n",
       "      <td>1</td>\n",
       "      <td>1.60</td>\n",
       "      <td>1</td>\n",
       "    </tr>\n",
       "    <tr>\n",
       "      <th>2</th>\n",
       "      <td>1</td>\n",
       "      <td>1</td>\n",
       "      <td>0</td>\n",
       "      <td>1</td>\n",
       "      <td>1</td>\n",
       "      <td>1</td>\n",
       "      <td>1</td>\n",
       "      <td>1</td>\n",
       "      <td>1</td>\n",
       "      <td>0</td>\n",
       "      <td>1</td>\n",
       "      <td>1</td>\n",
       "      <td>1</td>\n",
       "      <td>0</td>\n",
       "      <td>0</td>\n",
       "      <td>0</td>\n",
       "      <td>1</td>\n",
       "      <td>0</td>\n",
       "      <td>1.49</td>\n",
       "      <td>2</td>\n",
       "    </tr>\n",
       "    <tr>\n",
       "      <th>3</th>\n",
       "      <td>1</td>\n",
       "      <td>1</td>\n",
       "      <td>1</td>\n",
       "      <td>0</td>\n",
       "      <td>1</td>\n",
       "      <td>0</td>\n",
       "      <td>0</td>\n",
       "      <td>1</td>\n",
       "      <td>1</td>\n",
       "      <td>1</td>\n",
       "      <td>0</td>\n",
       "      <td>1</td>\n",
       "      <td>1</td>\n",
       "      <td>0</td>\n",
       "      <td>1</td>\n",
       "      <td>0</td>\n",
       "      <td>1</td>\n",
       "      <td>0</td>\n",
       "      <td>1.36</td>\n",
       "      <td>3</td>\n",
       "    </tr>\n",
       "    <tr>\n",
       "      <th>4</th>\n",
       "      <td>0</td>\n",
       "      <td>0</td>\n",
       "      <td>0</td>\n",
       "      <td>0</td>\n",
       "      <td>0</td>\n",
       "      <td>0</td>\n",
       "      <td>1</td>\n",
       "      <td>0</td>\n",
       "      <td>1</td>\n",
       "      <td>0</td>\n",
       "      <td>1</td>\n",
       "      <td>0</td>\n",
       "      <td>0</td>\n",
       "      <td>0</td>\n",
       "      <td>0</td>\n",
       "      <td>0</td>\n",
       "      <td>0</td>\n",
       "      <td>0</td>\n",
       "      <td>1.98</td>\n",
       "      <td>4</td>\n",
       "    </tr>\n",
       "  </tbody>\n",
       "</table>\n",
       "</div>"
      ],
      "text/plain": [
       "   feat_001  feat_006  feat_025  feat_037  feat_068  feat_069  feat_072  feat_087  feat_090  feat_102  feat_119  feat_123  feat_173  feat_187  feat_218  feat_225  feat_243  feat_251   gap  id\n",
       "0         0         0         0         0         1         0         1         0         1         0         1         0         0         0         0         0         0         0  1.19   0\n",
       "1         1         0         1         1         0         1         1         0         1         1         0         0         1         1         1         0         0         1  1.60   1\n",
       "2         1         1         0         1         1         1         1         1         1         0         1         1         1         0         0         0         1         0  1.49   2\n",
       "3         1         1         1         0         1         0         0         1         1         1         0         1         1         0         1         0         1         0  1.36   3\n",
       "4         0         0         0         0         0         0         1         0         1         0         1         0         0         0         0         0         0         0  1.98   4"
      ]
     },
     "execution_count": 54,
     "metadata": {},
     "output_type": "execute_result"
    }
   ],
   "source": [
    "dftrain1.head()"
   ]
  },
  {
   "cell_type": "code",
   "execution_count": 55,
   "metadata": {
    "collapsed": true
   },
   "outputs": [],
   "source": [
    "import statsmodels.api as sm\n",
    "from statsmodels.formula.api import glm, ols\n",
    "from sklearn.linear_model import LinearRegression\n",
    "import patsy\n",
    "from sklearn.linear_model import Ridge\n",
    "from sklearn.linear_model import Lasso\n",
    "from sklearn.linear_model import ElasticNet\n",
    "from sklearn.metrics import make_scorer\n",
    "from sklearn.grid_search import GridSearchCV"
   ]
  },
  {
   "cell_type": "code",
   "execution_count": 56,
   "metadata": {
    "collapsed": true
   },
   "outputs": [],
   "source": [
    "def cv_optimize_ridge(X, y, n_folds=8):\n",
    "    clf = Ridge()\n",
    "    parameters = {\"alpha\":  [1e-2,1e-1 ,1.0,10,100]}\n",
    "    gs = GridSearchCV(clf, param_grid=parameters, cv=n_folds, scoring=\"mean_squared_error\")\n",
    "    gs.fit(X, y)\n",
    "    return gs"
   ]
  },
  {
   "cell_type": "code",
   "execution_count": 57,
   "metadata": {
    "collapsed": true
   },
   "outputs": [],
   "source": [
    "def cv_optimize_lasso(X, y, n_folds=8):\n",
    "    clf = Lasso()\n",
    "    parameters = {\"alpha\":  [1e-6,1e-5 ,1e-4, 1e-3, 1e-2]}\n",
    "    gs = GridSearchCV(clf, param_grid=parameters, cv=n_folds, scoring=\"mean_squared_error\")\n",
    "    gs.fit(X, y)\n",
    "    return gs"
   ]
  },
  {
   "cell_type": "code",
   "execution_count": 58,
   "metadata": {
    "collapsed": true
   },
   "outputs": [],
   "source": [
    "def cv_optimize_enet(X, y, n_folds=8):\n",
    "    clf=ElasticNet()\n",
    "    parameters = {\"alpha\":  [1e-6,1e-5 ,1e-4, 1e-3, 1e-2]}\n",
    "    gs = GridSearchCV(clf, param_grid=parameters, cv=n_folds, scoring=\"mean_squared_error\")\n",
    "    gs.fit(X, y)\n",
    "    return gs"
   ]
  },
  {
   "cell_type": "code",
   "execution_count": 59,
   "metadata": {
    "collapsed": true
   },
   "outputs": [],
   "source": [
    "predesired_featuresgap=copy.deepcopy(predesired_features)"
   ]
  },
  {
   "cell_type": "code",
   "execution_count": 60,
   "metadata": {
    "collapsed": true
   },
   "outputs": [],
   "source": [
    "predesired_featuresgap.append('gap')\n",
    "predesired_featuresgap.append('id')"
   ]
  },
  {
   "cell_type": "code",
   "execution_count": 61,
   "metadata": {
    "collapsed": true
   },
   "outputs": [],
   "source": [
    "# remainingidsweek.head()\n",
    "# 800000\n",
    "# predesired_featuresgap.append('id')\n",
    "lenTrain=1000000"
   ]
  },
  {
   "cell_type": "code",
   "execution_count": 62,
   "metadata": {
    "collapsed": false
   },
   "outputs": [],
   "source": [
    "dftrain=dftrain1[predesired_featuresgap][:lenTrain]"
   ]
  },
  {
   "cell_type": "code",
   "execution_count": 63,
   "metadata": {
    "collapsed": false
   },
   "outputs": [
    {
     "name": "stderr",
     "output_type": "stream",
     "text": [
      "D:\\Dev\\Anaconda2\\lib\\site-packages\\ipykernel\\__main__.py:14: DeprecationWarning: using a non-integer number instead of an integer will result in an error in the future\n",
      "D:\\Dev\\Anaconda2\\lib\\site-packages\\ipykernel\\__main__.py:21: DeprecationWarning: using a non-integer number instead of an integer will result in an error in the future\n"
     ]
    }
   ],
   "source": [
    "\n",
    "######## Rerunning will overwrite reproducible results\n",
    "\n",
    "# # sample by game ID number to avoid any indexing issues\n",
    "# # store samples (like choosing a seed)\n",
    "\n",
    "\n",
    "\n",
    "uniqueids = dftrain.id\n",
    "traininglength = lenTrain*0.8\n",
    "testinglength = lenTrain*0.1\n",
    "validatelength = lenTrain*0.1\n",
    "\n",
    "testids = np.random.choice(a = uniqueids, size = testinglength, replace = False)\n",
    "remainingids = list([x for x in uniqueids if x not in testids])\n",
    "\n",
    "trainidsdftrain = pd.DataFrame()\n",
    "testidsdf = pd.DataFrame()\n",
    "remainingidsdf = pd.DataFrame()\n",
    "for i in range(5):\n",
    "    trainidsdftrain[i] = np.random.choice(a = remainingids, size = traininglength, replace = False)\n",
    "testidsdf[0] = testids\n",
    "remainingidsdf[0] = remainingids\n",
    "\n",
    "trainidsdftrain.to_csv(\"trainidsdftrain.csv\")\n",
    "testidsdf.to_csv(\"testidsdf.csv\")\n",
    "remainingidsdf.to_csv(\"remainingidsdf.csv\")\n",
    "\n"
   ]
  },
  {
   "cell_type": "code",
   "execution_count": 64,
   "metadata": {
    "collapsed": true
   },
   "outputs": [],
   "source": [
    "def squarelist(list):\n",
    "    return [ x**2 for x in list ]\n",
    "\n",
    "def abslist(list):\n",
    "    return [ abs(x) for x in list ]\n",
    "\n",
    "def rootlist(list):\n",
    "    return [ np.sqrt(x) for x in list ]\n",
    "\n",
    "# sources: http://stackoverflow.com/questions/12555443/squaring-all-elements-in-a-list"
   ]
  },
  {
   "cell_type": "code",
   "execution_count": 65,
   "metadata": {
    "collapsed": false
   },
   "outputs": [
    {
     "name": "stdout",
     "output_type": "stream",
     "text": [
      "Wall time: 1h 49min 19s\n"
     ]
    }
   ],
   "source": [
    "%%time\n",
    "\n",
    "\n",
    "\n",
    "# Stats for the Simple Model\n",
    "olsmsessimple = []\n",
    "olsmadssimple = []\n",
    "ridgemsessimple = []\n",
    "ridgemadssimple = []\n",
    "lassomsessimple = []\n",
    "lassomadssimple = []\n",
    "enetmsessimple = []\n",
    "enetmadssimple = []\n",
    "\n",
    "# Stats for the Intuitive Model\n",
    "olsmsesintuitive = []\n",
    "olsmadsintuitive = []\n",
    "ridgemsesintuitive = []\n",
    "ridgemadsintuitive = []\n",
    "lassomsesintuitive = []\n",
    "lassomadsintuitive = []\n",
    "enetmsesintuitive = []\n",
    "enetmadsintuitive = []\n",
    "\n",
    "# Stats for the Full Model\n",
    "olsmsesall = []\n",
    "olsmadsall = []\n",
    "ridgemsesall = []\n",
    "ridgemadsall = []\n",
    "lassomsesall = []\n",
    "lassomadsall = []\n",
    "enetmsesall = []\n",
    "enetmadsall = []\n",
    "\n",
    "coeffsLinear=[]\n",
    "coeffsRidge=[]\n",
    "coeffsLasso=[]\n",
    "coeffsEnet=[]\n",
    "\n",
    "\n",
    "# Cross-Validate\n",
    "for i in trainidsdftrain.columns.values:\n",
    "    trainids = trainidsdftrain[i]\n",
    "    validationids = set(remainingids) - set(trainids)\n",
    "    \n",
    "    traindf = dftrain.loc[dftrain[\"id\"].isin(trainids)]\n",
    "    validatedf = dftrain.loc[dftrain[\"id\"].isin(validationids)]\n",
    "    \n",
    "    # make simple model x and y dataframes\n",
    "    forfitsimple = pd.DataFrame(traindf.gap)\n",
    "    forpredsimple = pd.DataFrame(validatedf.gap)\n",
    "    for xvar in predesired_features:\n",
    "        forpredsimple[xvar] = validatedf[xvar]\n",
    "        forfitsimple[xvar] = traindf[xvar]\n",
    "    ytrainsimple,xtrainsimple = patsy.dmatrices(formulasimple, data=forfitsimple)\n",
    "    yvalidatesimple,xvalidatesimple = patsy.dmatrices(formulasimple, data=forpredsimple)\n",
    "\n",
    "\n",
    "    \n",
    "    \n",
    "# Simple Models    \n",
    "\n",
    "    # linear\n",
    "    fit = ols(formulasimple, data = forfitsimple).fit()\n",
    "    predsLinear = fit.predict(forpredsimple)\n",
    "    prederrors = []\n",
    "    count = 0\n",
    "    for act in yvalidatesimple:\n",
    "        prederrors.append(float(predsLinear[count] - float(act)))\n",
    "        count = count + 1\n",
    "    \n",
    "    olsmsessimple.append(np.mean(squarelist(prederrors)))\n",
    "    olsmadssimple.append(np.mean(abslist(prederrors))) \n",
    "    coeffsLinear.append(fit)\n",
    "    \n",
    "    # ridge\n",
    "    fitridge = cv_optimize_ridge(xtrainsimple, ytrainsimple, n_folds=8)\n",
    "    alpharidge = fitridge.best_params_['alpha']\n",
    "    clfridge = Ridge(alpha=alpharidge).fit(xtrainsimple,ytrainsimple)\n",
    "    predsRidge = clfridge.predict(xvalidatesimple)\n",
    "    prederrors = []\n",
    "    count = 0\n",
    "    for act in yvalidatesimple:\n",
    "        prederrors.append(float(predsRidge[count] - float(act)))\n",
    "        count = count + 1\n",
    "    ridgemsessimple.append(np.mean(squarelist(prederrors)))\n",
    "    ridgemadssimple.append(np.mean(abslist(prederrors))) \n",
    "    coeffsRidge.append(clfridge)\n",
    "    \n",
    "    # lasso\n",
    "    fitlasso = cv_optimize_lasso(xtrainsimple, ytrainsimple, n_folds=8)\n",
    "    alphalasso = fitlasso.best_params_['alpha']\n",
    "    clflasso = Lasso(alpha=alphalasso).fit(xtrainsimple,ytrainsimple)\n",
    "    predsLasso = clflasso.predict(xvalidatesimple)\n",
    "    prederrors = []\n",
    "    count = 0\n",
    "    for act in yvalidatesimple:\n",
    "        prederrors.append(float(predsLasso[count] - float(act)))\n",
    "        count = count + 1\n",
    "    lassomsessimple.append(np.mean(squarelist(prederrors)))\n",
    "    lassomadssimple.append(np.mean(abslist(prederrors)))  \n",
    "    coeffsLasso.append(clflasso)\n",
    "    \n",
    "    # enet\n",
    "    fitenet = cv_optimize_enet(xtrainsimple, forfitsimple[\"gap\"], n_folds=8)\n",
    "    alphaenet = fitenet.best_params_['alpha']\n",
    "    clfenet = ElasticNet(alpha=alphaenet).fit(xtrainsimple,forfitsimple[\"gap\"])\n",
    "    predsEnet = clfenet.predict(xvalidatesimple)\n",
    "    prederrors = []\n",
    "    count = 0\n",
    "    for act in yvalidatesimple:\n",
    "        prederrors.append(float(predsEnet[count] - float(act)))\n",
    "        count = count + 1\n",
    "    enetmsessimple.append(np.mean(squarelist(prederrors)))\n",
    "    enetmadssimple.append(np.mean(abslist(prederrors)))       \n",
    "    coeffsEnet.append(clfenet)\n",
    "    \n",
    "    \n",
    "    \n",
    "    "
   ]
  },
  {
   "cell_type": "markdown",
   "metadata": {},
   "source": [
    "***We ran the three sets of predictors on the following four models, to produce a total of 12 fit models.***\n",
    "\n",
    "- **OLS Regression: this is the simplest, go-to model, and we expect it to perform worse than the others, which might filter out unnecessary data well.**\n",
    "\n",
    "\n",
    "- **Ridge Regression: we used this because it ought to set the coefficients of less valuable predictors to near-zero values, which could produce excellent predictions given a large number of predictors.**\n",
    "\n",
    "\n",
    "- **Lasso Regression: we used this because it ought to set the coefficients of less valuable predictors to zero values, which could produce excellent predictions given a large number of predictors.**\n",
    "\n",
    "\n",
    "- **Elastic Net: we used this for similar reasons to the above.**\n",
    "\n",
    "***Again, we trained and validated each of these on the following three predictor sets:***\n",
    "\n",
    "- **Simple set**\n",
    "\n",
    "- **Intuitive set**\n",
    "\n",
    "- **All set**\n",
    "\n",
    "***The model statements for these three predictors sets are printed above.***"
   ]
  },
  {
   "cell_type": "code",
   "execution_count": 66,
   "metadata": {
    "collapsed": false
   },
   "outputs": [],
   "source": [
    "predesired_features=copy.deepcopy(newdesired_features)"
   ]
  },
  {
   "cell_type": "code",
   "execution_count": 67,
   "metadata": {
    "collapsed": false
   },
   "outputs": [],
   "source": [
    "forpredsimpleAll = pd.DataFrame(dftrain.gap)\n",
    "for xvar in predesired_features:\n",
    "    forpredsimpleAll[xvar] = dftrain[xvar]\n",
    "ytestsimple,xtestsimple = patsy.dmatrices(formulasimple, data=forpredsimpleAll)\n",
    "\n",
    "\n",
    "# Linear\n",
    "minIndex=olsmsessimple.index(min(olsmsessimple))\n",
    "fit=coeffsLinear[minIndex]\n",
    "predsLinearAll = fit.predict(forpredsimpleAll)\n",
    "\n",
    "\n",
    "# Ridge\n",
    "minIndex=ridgemsessimple.index(min(ridgemsessimple))\n",
    "clfRidge=coeffsRidge[minIndex]\n",
    "predsRidgeAll = clfRidge.predict(xtestsimple)\n",
    "\n",
    "# Lasso\n",
    "minIndex=lassomsessimple.index(min(lassomsessimple))\n",
    "clflasso=coeffsLasso[minIndex]\n",
    "predsLassoAll = clflasso.predict(xtestsimple)\n",
    "\n",
    "# Enet\n",
    "minIndex=enetmsessimple.index(min(enetmsessimple))\n",
    "clfEnet=coeffsEnet[minIndex]\n",
    "predsEnetAll = clfEnet.predict(xtestsimple)\n",
    "\n"
   ]
  },
  {
   "cell_type": "code",
   "execution_count": 68,
   "metadata": {
    "collapsed": false
   },
   "outputs": [],
   "source": [
    "%matplotlib inline\n",
    "import numpy as np\n",
    "import scipy as sp\n",
    "import matplotlib as mpl\n",
    "import matplotlib.cm as cm\n",
    "import matplotlib.pyplot as plt\n",
    "import pandas as pd\n",
    "import time\n",
    "pd.set_option('display.width', 500)\n",
    "pd.set_option('display.max_columns', 100)\n",
    "pd.set_option('display.notebook_repr_html', True)\n",
    "import seaborn as sns\n",
    "sns.set_style(\"whitegrid\")\n",
    "sns.set_context(\"poster\")\n",
    "from bs4 import BeautifulSoup\n",
    "import requests"
   ]
  },
  {
   "cell_type": "code",
   "execution_count": 69,
   "metadata": {
    "collapsed": false
   },
   "outputs": [
    {
     "name": "stdout",
     "output_type": "stream",
     "text": [
      "Cross Validation Root Avg. MSE Next Week's Price:\n"
     ]
    },
    {
     "data": {
      "text/html": [
       "<div>\n",
       "<table border=\"1\" class=\"dataframe\">\n",
       "  <thead>\n",
       "    <tr style=\"text-align: right;\">\n",
       "      <th></th>\n",
       "      <th>All</th>\n",
       "    </tr>\n",
       "  </thead>\n",
       "  <tbody>\n",
       "    <tr>\n",
       "      <th>OLS</th>\n",
       "      <td>0.09282</td>\n",
       "    </tr>\n",
       "    <tr>\n",
       "      <th>Ridge</th>\n",
       "      <td>0.09282</td>\n",
       "    </tr>\n",
       "    <tr>\n",
       "      <th>Lasso</th>\n",
       "      <td>0.09282</td>\n",
       "    </tr>\n",
       "    <tr>\n",
       "      <th>ElasticNet</th>\n",
       "      <td>0.09282</td>\n",
       "    </tr>\n",
       "  </tbody>\n",
       "</table>\n",
       "</div>"
      ],
      "text/plain": [
       "                All\n",
       "OLS         0.09282\n",
       "Ridge       0.09282\n",
       "Lasso       0.09282\n",
       "ElasticNet  0.09282"
      ]
     },
     "execution_count": 69,
     "metadata": {},
     "output_type": "execute_result"
    }
   ],
   "source": [
    "# Simple = [round(np.mean(olsmadssimpleweek),2), round(np.mean(ridgemadssimpleweek),2), \n",
    "# round(np.mean(lassomadssimpleweek),2), round(np.mean(enetmadssimpleweek),2)]\n",
    "# Intuitive = [round(np.mean(olsmadsintuitiveweek),2), round(np.mean(ridgemadsintuitiveweek),2), \n",
    "# round(np.mean(lassomadsintuitiveweek),2), round(np.mean(enetmadsintuitiveweek),2)]\n",
    "All = [round(np.mean(olsmsessimple),5), round(np.mean(ridgemsessimple),5), round(np.mean(lassomsessimple),5), round(np.mean(enetmsessimple),5)]\n",
    "\n",
    "MSEResultstableweek = pd.DataFrame()\n",
    "# MSEResultstableweek[\"Simple\"] = Simple\n",
    "# MSEResultstableweek[\"Intuitive\"] = Intuitive\n",
    "MSEResultstableweek[\"All\"] = All\n",
    "MSEResultstableweek.index = [\"OLS\",\"Ridge\",\"Lasso\", \"ElasticNet\"]\n",
    "print \"Cross Validation Root Avg. MSE Next Week's Price:\"\n",
    "MSEResultstableweek"
   ]
  },
  {
   "cell_type": "code",
   "execution_count": 70,
   "metadata": {
    "collapsed": false
   },
   "outputs": [
    {
     "name": "stdout",
     "output_type": "stream",
     "text": [
      "RMSE Results for Different Models of Next Week's Price:\n"
     ]
    },
    {
     "data": {
      "text/plain": [
       "<matplotlib.axes._subplots.AxesSubplot at 0x18981a20>"
      ]
     },
     "execution_count": 70,
     "metadata": {},
     "output_type": "execute_result"
    },
    {
     "data": {
      "image/png": "[encoded data removed]",
      "text/plain": [
       "<matplotlib.figure.Figure at 0xe5a47710>"
      ]
     },
     "metadata": {},
     "output_type": "display_data"
    }
   ],
   "source": [
    "MSE = All\n",
    "forplottableweek = pd.DataFrame()\n",
    "forplottableweek[\"Root MSE\"] = MSE\n",
    "indices = [list(MSEResultstableweek.index)]\n",
    "forplottableweek.index = indices\n",
    "digits =  [\"All\",\"All\",\"All\", \"All\"]\n",
    "forplottableweek[\"Digits\"] = digits\n",
    "print \"RMSE Results for Different Models of Next Week's Price:\"\n",
    "sns.barplot(y = \"Root MSE\",x = digits, hue = forplottableweek.index.values, data = forplottableweek)"
   ]
  },
  {
   "cell_type": "code",
   "execution_count": 71,
   "metadata": {
    "collapsed": false
   },
   "outputs": [],
   "source": [
    "# dftrain.to_csv(\"train1.csv\")"
   ]
  },
  {
   "cell_type": "code",
   "execution_count": 72,
   "metadata": {
    "collapsed": true
   },
   "outputs": [],
   "source": [
    "def write_to_file(filename, predictions):\n",
    "    with open(filename, \"w\") as f:\n",
    "        f.write(\"Id,Prediction\\n\")\n",
    "        for i,p in enumerate(predictions):\n",
    "            f.write(str(i+1) + \",\" + str(p) + \"\\n\")"
   ]
  },
  {
   "cell_type": "code",
   "execution_count": 73,
   "metadata": {
    "collapsed": true
   },
   "outputs": [],
   "source": [
    "dftest1['gap']=0\n",
    "predesired_features.append('gap')"
   ]
  },
  {
   "cell_type": "code",
   "execution_count": 74,
   "metadata": {
    "collapsed": false
   },
   "outputs": [],
   "source": [
    "# newdesired_features.remove('gap')\n",
    "dftest2 = dftest1[predesired_features]"
   ]
  },
  {
   "cell_type": "code",
   "execution_count": 75,
   "metadata": {
    "collapsed": true
   },
   "outputs": [],
   "source": [
    "predsRidgeAll=predsRidgeAll.ravel()"
   ]
  },
  {
   "cell_type": "code",
   "execution_count": 76,
   "metadata": {
    "collapsed": false
   },
   "outputs": [],
   "source": [
    "errEnet=math.sqrt(sum((predsEnetAll-dftrain['gap'])**2)/lenTrain)\n",
    "errLasso=math.sqrt(sum((predsLassoAll-dftrain['gap'])**2)/lenTrain)\n",
    "errRidge=math.sqrt(sum((predsRidgeAll-dftrain['gap'])**2)/lenTrain)\n",
    "errLinear=math.sqrt(sum((predsLinearAll-dftrain['gap'])**2)/lenTrain)"
   ]
  },
  {
   "cell_type": "code",
   "execution_count": 77,
   "metadata": {
    "collapsed": false
   },
   "outputs": [],
   "source": [
    "forpredsimpleAll = pd.DataFrame(dftest2.gap)\n",
    "for xvar in predesired_features:\n",
    "    forpredsimpleAll[xvar] = dftrain[xvar]\n",
    "ytestsimple,xtestsimple = patsy.dmatrices(formulasimple, data=forpredsimpleAll)\n",
    "\n"
   ]
  },
  {
   "cell_type": "code",
   "execution_count": 78,
   "metadata": {
    "collapsed": false
   },
   "outputs": [],
   "source": [
    "error=[errLinear,errLasso,errRidge,errEnet]\n",
    "\n",
    "bestmodel=[fit,clflasso,clfRidge,clfEnet][error.index(min(error))]\n",
    "if error.index(min(error))==0:\n",
    "    predsBestModel = bestmodel.predict(dftest2)\n",
    "elif error.index(min(error))==2:\n",
    "    predsBestModel = bestmodel.predict(xtestsimple)\n",
    "    predsBestModel=predsBestModel.ravel()\n",
    "else:\n",
    "    predsBestModel = bestmodel.predict(xtestsimple)"
   ]
  },
  {
   "cell_type": "code",
   "execution_count": 79,
   "metadata": {
    "collapsed": false
   },
   "outputs": [
    {
     "data": {
      "text/plain": [
       "array([ 1.65444443,  1.68013851,  1.57351312, ...,  1.65444443,\n",
       "        1.75906035,  1.78309452])"
      ]
     },
     "execution_count": 79,
     "metadata": {},
     "output_type": "execute_result"
    }
   ],
   "source": [
    "# error=[newdftrain['errLinear'].mean(),newdftrain['errLasso'].mean(),newdftrain['errRidge'].mean(),newdftrain['errEnet'].mean()]\n",
    "predsBestModel"
   ]
  },
  {
   "cell_type": "code",
   "execution_count": 80,
   "metadata": {
    "collapsed": false
   },
   "outputs": [],
   "source": [
    "# We need to submit best1.csv\n",
    "write_to_file(\"best1.csv\", predsBestModel)"
   ]
  },
  {
   "cell_type": "code",
   "execution_count": null,
   "metadata": {
    "collapsed": true
   },
   "outputs": [],
   "source": []
  }
 ],
 "metadata": {
  "kernelspec": {
   "display_name": "Python 2",
   "language": "python",
   "name": "python2"
  },
  "language_info": {
   "codemirror_mode": {
    "name": "ipython",
    "version": 2
   },
   "file_extension": ".py",
   "mimetype": "text/x-python",
   "name": "python",
   "nbconvert_exporter": "python",
   "pygments_lexer": "ipython2",
   "version": "2.7.11"
  }
 },
 "nbformat": 4,
 "nbformat_minor": 0
}
