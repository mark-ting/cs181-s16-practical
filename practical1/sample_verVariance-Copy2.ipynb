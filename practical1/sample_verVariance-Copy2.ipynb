{
 "cells": [
  {
   "cell_type": "code",
   "execution_count": 96,
   "metadata": {
    "collapsed": false
   },
   "outputs": [],
   "source": [
    "import pandas as pd\n",
    "import numpy as np\n",
    "import matplotlib.pyplot as plt\n",
    "from sklearn.linear_model import LinearRegression\n",
    "from sklearn.ensemble import RandomForestRegressor\n",
    "from sklearn.feature_selection import VarianceThreshold\n",
    "import math\n",
    "import copy"
   ]
  },
  {
   "cell_type": "code",
   "execution_count": 2,
   "metadata": {
    "collapsed": false
   },
   "outputs": [],
   "source": [
    "\"\"\"\n",
    "Read in train and test as Pandas DataFrames\n",
    "\"\"\"\n",
    "# df_train = pd.read_csv(\"train.csv\")\n",
    "# df_test = pd.read_csv(\"test.csv\")\n",
    "\n",
    "dftrain1 = pd.read_csv(\"train.csv\")\n",
    "\n",
    "dftest1 = pd.read_csv(\"test.csv\")\n",
    "dftrain1 = dftrain1.drop(['smiles'], axis=1)\n"
   ]
  },
  {
   "cell_type": "code",
   "execution_count": 7,
   "metadata": {
    "collapsed": false
   },
   "outputs": [],
   "source": [
    "dfgap = dftrain1['gap']\n",
    "dftrain1 = dftrain1.drop(['gap'], axis = 1)\n",
    "# dftest1 = dftest1.drop(['smiles'], axis = 1)\n",
    "# dftest1 = dftest1.drop(['Id'], axis = 1)\n",
    "sel = VarianceThreshold(threshold=(.9 * (1 - .9)))\n",
    "dftrain1 = pd.DataFrame(sel.fit_transform(dftrain1))\n",
    "# dftest1 = pd.DataFrame(sel.fit_transform(dftest1))\n",
    "desired_features = sel.get_support(True)\n"
   ]
  },
  {
   "cell_type": "code",
   "execution_count": 14,
   "metadata": {
    "collapsed": false
   },
   "outputs": [
    {
     "data": {
      "text/plain": [
       "['feat_001',\n",
       " 'feat_006',\n",
       " 'feat_025',\n",
       " 'feat_037',\n",
       " 'feat_068',\n",
       " 'feat_069',\n",
       " 'feat_072',\n",
       " 'feat_087',\n",
       " 'feat_090',\n",
       " 'feat_102',\n",
       " 'feat_119',\n",
       " 'feat_123',\n",
       " 'feat_173',\n",
       " 'feat_187',\n",
       " 'feat_218',\n",
       " 'feat_225',\n",
       " 'feat_243',\n",
       " 'feat_251']"
      ]
     },
     "execution_count": 14,
     "metadata": {},
     "output_type": "execute_result"
    }
   ],
   "source": [
    "newdesired_features=[]\n",
    "for elem in list(desired_features+1):\n",
    "    if elem<10:\n",
    "        newElem=\"feat_00\"+str(elem)\n",
    "    elif elem<100:\n",
    "        newElem=\"feat_0\"+str(elem)\n",
    "    else:\n",
    "        newElem=\"feat_\"+str(elem)\n",
    "    newdesired_features.append(newElem)\n",
    "    \n",
    "newdesired_features"
   ]
  },
  {
   "cell_type": "code",
   "execution_count": 15,
   "metadata": {
    "collapsed": true
   },
   "outputs": [],
   "source": [
    "dftrain1.columns=newdesired_features"
   ]
  },
  {
   "cell_type": "code",
   "execution_count": 16,
   "metadata": {
    "collapsed": false
   },
   "outputs": [
    {
     "data": {
      "text/html": [
       "<div>\n",
       "<table border=\"1\" class=\"dataframe\">\n",
       "  <thead>\n",
       "    <tr style=\"text-align: right;\">\n",
       "      <th></th>\n",
       "      <th>feat_001</th>\n",
       "      <th>feat_006</th>\n",
       "      <th>feat_025</th>\n",
       "      <th>feat_037</th>\n",
       "      <th>feat_068</th>\n",
       "      <th>feat_069</th>\n",
       "      <th>feat_072</th>\n",
       "      <th>feat_087</th>\n",
       "      <th>feat_090</th>\n",
       "      <th>feat_102</th>\n",
       "      <th>feat_119</th>\n",
       "      <th>feat_123</th>\n",
       "      <th>feat_173</th>\n",
       "      <th>feat_187</th>\n",
       "      <th>feat_218</th>\n",
       "      <th>feat_225</th>\n",
       "      <th>feat_243</th>\n",
       "      <th>feat_251</th>\n",
       "    </tr>\n",
       "  </thead>\n",
       "  <tbody>\n",
       "    <tr>\n",
       "      <th>0</th>\n",
       "      <td>0</td>\n",
       "      <td>0</td>\n",
       "      <td>0</td>\n",
       "      <td>0</td>\n",
       "      <td>1</td>\n",
       "      <td>0</td>\n",
       "      <td>1</td>\n",
       "      <td>0</td>\n",
       "      <td>1</td>\n",
       "      <td>0</td>\n",
       "      <td>1</td>\n",
       "      <td>0</td>\n",
       "      <td>0</td>\n",
       "      <td>0</td>\n",
       "      <td>0</td>\n",
       "      <td>0</td>\n",
       "      <td>0</td>\n",
       "      <td>0</td>\n",
       "    </tr>\n",
       "    <tr>\n",
       "      <th>1</th>\n",
       "      <td>1</td>\n",
       "      <td>0</td>\n",
       "      <td>1</td>\n",
       "      <td>1</td>\n",
       "      <td>0</td>\n",
       "      <td>1</td>\n",
       "      <td>1</td>\n",
       "      <td>0</td>\n",
       "      <td>1</td>\n",
       "      <td>1</td>\n",
       "      <td>0</td>\n",
       "      <td>0</td>\n",
       "      <td>1</td>\n",
       "      <td>1</td>\n",
       "      <td>1</td>\n",
       "      <td>0</td>\n",
       "      <td>0</td>\n",
       "      <td>1</td>\n",
       "    </tr>\n",
       "    <tr>\n",
       "      <th>2</th>\n",
       "      <td>1</td>\n",
       "      <td>1</td>\n",
       "      <td>0</td>\n",
       "      <td>1</td>\n",
       "      <td>1</td>\n",
       "      <td>1</td>\n",
       "      <td>1</td>\n",
       "      <td>1</td>\n",
       "      <td>1</td>\n",
       "      <td>0</td>\n",
       "      <td>1</td>\n",
       "      <td>1</td>\n",
       "      <td>1</td>\n",
       "      <td>0</td>\n",
       "      <td>0</td>\n",
       "      <td>0</td>\n",
       "      <td>1</td>\n",
       "      <td>0</td>\n",
       "    </tr>\n",
       "    <tr>\n",
       "      <th>3</th>\n",
       "      <td>1</td>\n",
       "      <td>1</td>\n",
       "      <td>1</td>\n",
       "      <td>0</td>\n",
       "      <td>1</td>\n",
       "      <td>0</td>\n",
       "      <td>0</td>\n",
       "      <td>1</td>\n",
       "      <td>1</td>\n",
       "      <td>1</td>\n",
       "      <td>0</td>\n",
       "      <td>1</td>\n",
       "      <td>1</td>\n",
       "      <td>0</td>\n",
       "      <td>1</td>\n",
       "      <td>0</td>\n",
       "      <td>1</td>\n",
       "      <td>0</td>\n",
       "    </tr>\n",
       "    <tr>\n",
       "      <th>4</th>\n",
       "      <td>0</td>\n",
       "      <td>0</td>\n",
       "      <td>0</td>\n",
       "      <td>0</td>\n",
       "      <td>0</td>\n",
       "      <td>0</td>\n",
       "      <td>1</td>\n",
       "      <td>0</td>\n",
       "      <td>1</td>\n",
       "      <td>0</td>\n",
       "      <td>1</td>\n",
       "      <td>0</td>\n",
       "      <td>0</td>\n",
       "      <td>0</td>\n",
       "      <td>0</td>\n",
       "      <td>0</td>\n",
       "      <td>0</td>\n",
       "      <td>0</td>\n",
       "    </tr>\n",
       "  </tbody>\n",
       "</table>\n",
       "</div>"
      ],
      "text/plain": [
       "   feat_001  feat_006  feat_025  feat_037  feat_068  feat_069  feat_072  \\\n",
       "0         0         0         0         0         1         0         1   \n",
       "1         1         0         1         1         0         1         1   \n",
       "2         1         1         0         1         1         1         1   \n",
       "3         1         1         1         0         1         0         0   \n",
       "4         0         0         0         0         0         0         1   \n",
       "\n",
       "   feat_087  feat_090  feat_102  feat_119  feat_123  feat_173  feat_187  \\\n",
       "0         0         1         0         1         0         0         0   \n",
       "1         0         1         1         0         0         1         1   \n",
       "2         1         1         0         1         1         1         0   \n",
       "3         1         1         1         0         1         1         0   \n",
       "4         0         1         0         1         0         0         0   \n",
       "\n",
       "   feat_218  feat_225  feat_243  feat_251  \n",
       "0         0         0         0         0  \n",
       "1         1         0         0         1  \n",
       "2         0         0         1         0  \n",
       "3         1         0         1         0  \n",
       "4         0         0         0         0  "
      ]
     },
     "execution_count": 16,
     "metadata": {},
     "output_type": "execute_result"
    }
   ],
   "source": [
    "dftrain1.head()"
   ]
  },
  {
   "cell_type": "code",
   "execution_count": 17,
   "metadata": {
    "collapsed": true
   },
   "outputs": [],
   "source": [
    "predesired_features=newdesired_features\n",
    "# predesired_features.append('gap')"
   ]
  },
  {
   "cell_type": "code",
   "execution_count": 18,
   "metadata": {
    "collapsed": false
   },
   "outputs": [],
   "source": [
    "# dftrain1\n"
   ]
  },
  {
   "cell_type": "code",
   "execution_count": 19,
   "metadata": {
    "collapsed": false
   },
   "outputs": [
    {
     "data": {
      "text/plain": [
       "['feat_001',\n",
       " 'feat_006',\n",
       " 'feat_025',\n",
       " 'feat_037',\n",
       " 'feat_068',\n",
       " 'feat_069',\n",
       " 'feat_072',\n",
       " 'feat_087',\n",
       " 'feat_090',\n",
       " 'feat_102',\n",
       " 'feat_119',\n",
       " 'feat_123',\n",
       " 'feat_173',\n",
       " 'feat_187',\n",
       " 'feat_218',\n",
       " 'feat_225',\n",
       " 'feat_243',\n",
       " 'feat_251']"
      ]
     },
     "execution_count": 19,
     "metadata": {},
     "output_type": "execute_result"
    }
   ],
   "source": [
    "# dftrain1['feat_251']\n",
    "predesired_features"
   ]
  },
  {
   "cell_type": "code",
   "execution_count": 11,
   "metadata": {
    "collapsed": false
   },
   "outputs": [],
   "source": [
    "# cols = dftrain1.columns\n",
    "# colnames = []\n",
    "# for i in xrange(0, len(cols)):\n",
    "#     colnames.append('feat_' + str(i + 1).zfill(3))\n",
    "# dftrain1.columns = colnames\n",
    "# dftrain1=dftrain1[predesired_features]"
   ]
  },
  {
   "cell_type": "code",
   "execution_count": 20,
   "metadata": {
    "collapsed": false
   },
   "outputs": [],
   "source": [
    "# # simple model\n",
    "# xvarssimple=list(dftrain1.columns)[0:len(list(dftrain1.columns))-1]\n",
    "# formulasimple = str(\"gap ~ \") + str(xvarssimple[0])\n",
    "# count = 0\n",
    "# for xvar in xvarssimple:\n",
    "#     if count > 0:\n",
    "#         formulasimple = formulasimple + \"+\" + str(xvar)\n",
    "#     count = count + 1\n",
    "\n",
    "# print formulasimple"
   ]
  },
  {
   "cell_type": "code",
   "execution_count": 21,
   "metadata": {
    "collapsed": false
   },
   "outputs": [
    {
     "name": "stdout",
     "output_type": "stream",
     "text": [
      "gap ~ feat_001+feat_006+feat_025+feat_037+feat_068+feat_069+feat_072+feat_087+feat_090+feat_102+feat_119+feat_123+feat_173+feat_187+feat_218+feat_225+feat_243+feat_251\n"
     ]
    }
   ],
   "source": [
    "# simple model\n",
    "# xvarssimple=list(dftrain1.columns)[0:len(list(dftrain1.columns))-1]\n",
    "formulasimple = str(\"gap ~ \") + str(predesired_features[0])\n",
    "count = 0\n",
    "for xvar in predesired_features:\n",
    "    if count > 0:\n",
    "        formulasimple = formulasimple + \"+\" + str(xvar)\n",
    "    count = count + 1\n",
    "\n",
    "print formulasimple"
   ]
  },
  {
   "cell_type": "code",
   "execution_count": null,
   "metadata": {
    "collapsed": false
   },
   "outputs": [],
   "source": []
  },
  {
   "cell_type": "code",
   "execution_count": 24,
   "metadata": {
    "collapsed": false
   },
   "outputs": [],
   "source": [
    "# remainingidsweek[\"0\"]\n",
    "dftrain1['gap'] = dfgap\n",
    "dftrain1['id']=list(dftrain1.index)"
   ]
  },
  {
   "cell_type": "code",
   "execution_count": 26,
   "metadata": {
    "collapsed": false
   },
   "outputs": [
    {
     "data": {
      "text/html": [
       "<div>\n",
       "<table border=\"1\" class=\"dataframe\">\n",
       "  <thead>\n",
       "    <tr style=\"text-align: right;\">\n",
       "      <th></th>\n",
       "      <th>feat_001</th>\n",
       "      <th>feat_006</th>\n",
       "      <th>feat_025</th>\n",
       "      <th>feat_037</th>\n",
       "      <th>feat_068</th>\n",
       "      <th>feat_069</th>\n",
       "      <th>feat_072</th>\n",
       "      <th>feat_087</th>\n",
       "      <th>feat_090</th>\n",
       "      <th>feat_102</th>\n",
       "      <th>feat_119</th>\n",
       "      <th>feat_123</th>\n",
       "      <th>feat_173</th>\n",
       "      <th>feat_187</th>\n",
       "      <th>feat_218</th>\n",
       "      <th>feat_225</th>\n",
       "      <th>feat_243</th>\n",
       "      <th>feat_251</th>\n",
       "      <th>gap</th>\n",
       "      <th>id</th>\n",
       "    </tr>\n",
       "  </thead>\n",
       "  <tbody>\n",
       "    <tr>\n",
       "      <th>0</th>\n",
       "      <td>0</td>\n",
       "      <td>0</td>\n",
       "      <td>0</td>\n",
       "      <td>0</td>\n",
       "      <td>1</td>\n",
       "      <td>0</td>\n",
       "      <td>1</td>\n",
       "      <td>0</td>\n",
       "      <td>1</td>\n",
       "      <td>0</td>\n",
       "      <td>1</td>\n",
       "      <td>0</td>\n",
       "      <td>0</td>\n",
       "      <td>0</td>\n",
       "      <td>0</td>\n",
       "      <td>0</td>\n",
       "      <td>0</td>\n",
       "      <td>0</td>\n",
       "      <td>1.19</td>\n",
       "      <td>0</td>\n",
       "    </tr>\n",
       "    <tr>\n",
       "      <th>1</th>\n",
       "      <td>1</td>\n",
       "      <td>0</td>\n",
       "      <td>1</td>\n",
       "      <td>1</td>\n",
       "      <td>0</td>\n",
       "      <td>1</td>\n",
       "      <td>1</td>\n",
       "      <td>0</td>\n",
       "      <td>1</td>\n",
       "      <td>1</td>\n",
       "      <td>0</td>\n",
       "      <td>0</td>\n",
       "      <td>1</td>\n",
       "      <td>1</td>\n",
       "      <td>1</td>\n",
       "      <td>0</td>\n",
       "      <td>0</td>\n",
       "      <td>1</td>\n",
       "      <td>1.60</td>\n",
       "      <td>1</td>\n",
       "    </tr>\n",
       "    <tr>\n",
       "      <th>2</th>\n",
       "      <td>1</td>\n",
       "      <td>1</td>\n",
       "      <td>0</td>\n",
       "      <td>1</td>\n",
       "      <td>1</td>\n",
       "      <td>1</td>\n",
       "      <td>1</td>\n",
       "      <td>1</td>\n",
       "      <td>1</td>\n",
       "      <td>0</td>\n",
       "      <td>1</td>\n",
       "      <td>1</td>\n",
       "      <td>1</td>\n",
       "      <td>0</td>\n",
       "      <td>0</td>\n",
       "      <td>0</td>\n",
       "      <td>1</td>\n",
       "      <td>0</td>\n",
       "      <td>1.49</td>\n",
       "      <td>2</td>\n",
       "    </tr>\n",
       "    <tr>\n",
       "      <th>3</th>\n",
       "      <td>1</td>\n",
       "      <td>1</td>\n",
       "      <td>1</td>\n",
       "      <td>0</td>\n",
       "      <td>1</td>\n",
       "      <td>0</td>\n",
       "      <td>0</td>\n",
       "      <td>1</td>\n",
       "      <td>1</td>\n",
       "      <td>1</td>\n",
       "      <td>0</td>\n",
       "      <td>1</td>\n",
       "      <td>1</td>\n",
       "      <td>0</td>\n",
       "      <td>1</td>\n",
       "      <td>0</td>\n",
       "      <td>1</td>\n",
       "      <td>0</td>\n",
       "      <td>1.36</td>\n",
       "      <td>3</td>\n",
       "    </tr>\n",
       "    <tr>\n",
       "      <th>4</th>\n",
       "      <td>0</td>\n",
       "      <td>0</td>\n",
       "      <td>0</td>\n",
       "      <td>0</td>\n",
       "      <td>0</td>\n",
       "      <td>0</td>\n",
       "      <td>1</td>\n",
       "      <td>0</td>\n",
       "      <td>1</td>\n",
       "      <td>0</td>\n",
       "      <td>1</td>\n",
       "      <td>0</td>\n",
       "      <td>0</td>\n",
       "      <td>0</td>\n",
       "      <td>0</td>\n",
       "      <td>0</td>\n",
       "      <td>0</td>\n",
       "      <td>0</td>\n",
       "      <td>1.98</td>\n",
       "      <td>4</td>\n",
       "    </tr>\n",
       "  </tbody>\n",
       "</table>\n",
       "</div>"
      ],
      "text/plain": [
       "   feat_001  feat_006  feat_025  feat_037  feat_068  feat_069  feat_072  \\\n",
       "0         0         0         0         0         1         0         1   \n",
       "1         1         0         1         1         0         1         1   \n",
       "2         1         1         0         1         1         1         1   \n",
       "3         1         1         1         0         1         0         0   \n",
       "4         0         0         0         0         0         0         1   \n",
       "\n",
       "   feat_087  feat_090  feat_102  feat_119  feat_123  feat_173  feat_187  \\\n",
       "0         0         1         0         1         0         0         0   \n",
       "1         0         1         1         0         0         1         1   \n",
       "2         1         1         0         1         1         1         0   \n",
       "3         1         1         1         0         1         1         0   \n",
       "4         0         1         0         1         0         0         0   \n",
       "\n",
       "   feat_218  feat_225  feat_243  feat_251   gap  id  \n",
       "0         0         0         0         0  1.19   0  \n",
       "1         1         0         0         1  1.60   1  \n",
       "2         0         0         1         0  1.49   2  \n",
       "3         1         0         1         0  1.36   3  \n",
       "4         0         0         0         0  1.98   4  "
      ]
     },
     "execution_count": 26,
     "metadata": {},
     "output_type": "execute_result"
    }
   ],
   "source": [
    "dftrain1.head()"
   ]
  },
  {
   "cell_type": "code",
   "execution_count": 27,
   "metadata": {
    "collapsed": true
   },
   "outputs": [],
   "source": [
    "import statsmodels.api as sm\n",
    "from statsmodels.formula.api import glm, ols\n",
    "from sklearn.linear_model import LinearRegression\n",
    "import patsy\n",
    "from sklearn.linear_model import Ridge\n",
    "from sklearn.linear_model import Lasso\n",
    "from sklearn.linear_model import ElasticNet\n",
    "from sklearn.metrics import make_scorer\n",
    "from sklearn.grid_search import GridSearchCV"
   ]
  },
  {
   "cell_type": "code",
   "execution_count": 28,
   "metadata": {
    "collapsed": true
   },
   "outputs": [],
   "source": [
    "def cv_optimize_ridge(X, y, n_folds=8):\n",
    "    clf = Ridge()\n",
    "    parameters = {\"alpha\":  [1e-2,1e-1 ,1.0,10,100]}\n",
    "    gs = GridSearchCV(clf, param_grid=parameters, cv=n_folds, scoring=\"mean_squared_error\")\n",
    "    gs.fit(X, y)\n",
    "    return gs"
   ]
  },
  {
   "cell_type": "code",
   "execution_count": 29,
   "metadata": {
    "collapsed": true
   },
   "outputs": [],
   "source": [
    "def cv_optimize_lasso(X, y, n_folds=8):\n",
    "    clf = Lasso()\n",
    "    parameters = {\"alpha\":  [1e-6,1e-5 ,1e-4, 1e-3, 1e-2]}\n",
    "    gs = GridSearchCV(clf, param_grid=parameters, cv=n_folds, scoring=\"mean_squared_error\")\n",
    "    gs.fit(X, y)\n",
    "    return gs"
   ]
  },
  {
   "cell_type": "code",
   "execution_count": 30,
   "metadata": {
    "collapsed": true
   },
   "outputs": [],
   "source": [
    "def cv_optimize_enet(X, y, n_folds=8):\n",
    "    clf=ElasticNet()\n",
    "    parameters = {\"alpha\":  [1e-6,1e-5 ,1e-4, 1e-3, 1e-2]}\n",
    "    gs = GridSearchCV(clf, param_grid=parameters, cv=n_folds, scoring=\"mean_squared_error\")\n",
    "    gs.fit(X, y)\n",
    "    return gs"
   ]
  },
  {
   "cell_type": "code",
   "execution_count": 31,
   "metadata": {
    "collapsed": true
   },
   "outputs": [],
   "source": [
    "predesired_featuresgap=copy.deepcopy(predesired_features)"
   ]
  },
  {
   "cell_type": "code",
   "execution_count": 32,
   "metadata": {
    "collapsed": true
   },
   "outputs": [],
   "source": [
    "predesired_featuresgap.append('gap')\n",
    "predesired_featuresgap.append('id')"
   ]
  },
  {
   "cell_type": "code",
   "execution_count": 38,
   "metadata": {
    "collapsed": true
   },
   "outputs": [],
   "source": [
    "# remainingidsweek.head()\n",
    "# 800000\n",
    "# predesired_featuresgap.append('id')\n",
    "lenTrain=1000"
   ]
  },
  {
   "cell_type": "code",
   "execution_count": 39,
   "metadata": {
    "collapsed": false
   },
   "outputs": [],
   "source": [
    "dftrain=dftrain1[predesired_featuresgap][:lenTrain]"
   ]
  },
  {
   "cell_type": "code",
   "execution_count": 44,
   "metadata": {
    "collapsed": false
   },
   "outputs": [],
   "source": [
    "\n",
    "######## Rerunning will overwrite reproducible results\n",
    "\n",
    "# # sample by game ID number to avoid any indexing issues\n",
    "# # store samples (like choosing a seed)\n",
    "\n",
    "\n",
    "\n",
    "uniqueids = dftrain.id\n",
    "traininglength = lenTrain*0.8\n",
    "testinglength = lenTrain*0.1\n",
    "validatelength = lenTrain*0.1\n",
    "\n",
    "testids = np.random.choice(a = uniqueids, size = testinglength, replace = False)\n",
    "remainingids = list([x for x in uniqueids if x not in testids])\n",
    "\n",
    "trainidsdftrain = pd.DataFrame()\n",
    "testidsdf = pd.DataFrame()\n",
    "remainingidsdf = pd.DataFrame()\n",
    "for i in range(5):\n",
    "    trainidsdftrain[i] = np.random.choice(a = remainingids, size = traininglength, replace = False)\n",
    "testidsdf[0] = testids\n",
    "remainingidsdf[0] = remainingids\n",
    "\n",
    "trainidsdftrain.to_csv(\"trainidsdftrain.csv\")\n",
    "testidsdf.to_csv(\"testidsdf.csv\")\n",
    "remainingidsdf.to_csv(\"remainingidsdf.csv\")\n",
    "\n"
   ]
  },
  {
   "cell_type": "code",
   "execution_count": 48,
   "metadata": {
    "collapsed": true
   },
   "outputs": [],
   "source": [
    "def squarelist(list):\n",
    "    return [ x**2 for x in list ]\n",
    "\n",
    "def abslist(list):\n",
    "    return [ abs(x) for x in list ]\n",
    "\n",
    "def rootlist(list):\n",
    "    return [ np.sqrt(x) for x in list ]\n",
    "\n",
    "# sources: http://stackoverflow.com/questions/12555443/squaring-all-elements-in-a-list"
   ]
  },
  {
   "cell_type": "code",
   "execution_count": 49,
   "metadata": {
    "collapsed": false
   },
   "outputs": [
    {
     "name": "stdout",
     "output_type": "stream",
     "text": [
      "CPU times: user 3.98 s, sys: 102 ms, total: 4.08 s\n",
      "Wall time: 4.45 s\n"
     ]
    },
    {
     "name": "stderr",
     "output_type": "stream",
     "text": [
      "/Users/takehiro/anaconda/lib/python2.7/site-packages/sklearn/linear_model/coordinate_descent.py:444: ConvergenceWarning: Objective did not converge. You might want to increase the number of iterations\n",
      "  ConvergenceWarning)\n"
     ]
    }
   ],
   "source": [
    "%%time\n",
    "\n",
    "\n",
    "\n",
    "# Stats for the Simple Model\n",
    "olsmsessimple = []\n",
    "olsmadssimple = []\n",
    "ridgemsessimple = []\n",
    "ridgemadssimple = []\n",
    "lassomsessimple = []\n",
    "lassomadssimple = []\n",
    "enetmsessimple = []\n",
    "enetmadssimple = []\n",
    "\n",
    "# Stats for the Intuitive Model\n",
    "olsmsesintuitive = []\n",
    "olsmadsintuitive = []\n",
    "ridgemsesintuitive = []\n",
    "ridgemadsintuitive = []\n",
    "lassomsesintuitive = []\n",
    "lassomadsintuitive = []\n",
    "enetmsesintuitive = []\n",
    "enetmadsintuitive = []\n",
    "\n",
    "# Stats for the Full Model\n",
    "olsmsesall = []\n",
    "olsmadsall = []\n",
    "ridgemsesall = []\n",
    "ridgemadsall = []\n",
    "lassomsesall = []\n",
    "lassomadsall = []\n",
    "enetmsesall = []\n",
    "enetmadsall = []\n",
    "\n",
    "coeffsLinear=[]\n",
    "coeffsRidge=[]\n",
    "coeffsLasso=[]\n",
    "coeffsEnet=[]\n",
    "\n",
    "\n",
    "# Cross-Validate\n",
    "for i in trainidsdftrain.columns.values:\n",
    "    trainids = trainidsdftrain[i]\n",
    "    validationids = set(remainingids) - set(trainids)\n",
    "    \n",
    "    traindf = dftrain.loc[dftrain[\"id\"].isin(trainids)]\n",
    "    validatedf = dftrain.loc[dftrain[\"id\"].isin(validationids)]\n",
    "    \n",
    "    # make simple model x and y dataframes\n",
    "    forfitsimple = pd.DataFrame(traindf.gap)\n",
    "    forpredsimple = pd.DataFrame(validatedf.gap)\n",
    "    for xvar in predesired_features:\n",
    "        forpredsimple[xvar] = validatedf[xvar]\n",
    "        forfitsimple[xvar] = traindf[xvar]\n",
    "    ytrainsimple,xtrainsimple = patsy.dmatrices(formulasimple, data=forfitsimple)\n",
    "    yvalidatesimple,xvalidatesimple = patsy.dmatrices(formulasimple, data=forpredsimple)\n",
    "\n",
    "\n",
    "    \n",
    "    \n",
    "# Simple Models    \n",
    "\n",
    "    # linear\n",
    "    fit = ols(formulasimple, data = forfitsimple).fit()\n",
    "    predsLinear = fit.predict(forpredsimple)\n",
    "    prederrors = []\n",
    "    count = 0\n",
    "    for act in yvalidatesimple:\n",
    "        prederrors.append(float(predsLinear[count] - float(act)))\n",
    "        count = count + 1\n",
    "    \n",
    "    olsmsessimple.append(np.mean(squarelist(prederrors)))\n",
    "    olsmadssimple.append(np.mean(abslist(prederrors))) \n",
    "    coeffsLinear.append(fit)\n",
    "    \n",
    "    # ridge\n",
    "    fitridge = cv_optimize_ridge(xtrainsimple, ytrainsimple, n_folds=8)\n",
    "    alpharidge = fitridge.best_params_['alpha']\n",
    "    clfridge = Ridge(alpha=alpharidge).fit(xtrainsimple,ytrainsimple)\n",
    "    predsRidge = clfridge.predict(xvalidatesimple)\n",
    "    prederrors = []\n",
    "    count = 0\n",
    "    for act in yvalidatesimple:\n",
    "        prederrors.append(float(predsRidge[count] - float(act)))\n",
    "        count = count + 1\n",
    "    ridgemsessimple.append(np.mean(squarelist(prederrors)))\n",
    "    ridgemadssimple.append(np.mean(abslist(prederrors))) \n",
    "    coeffsRidge.append(clfridge)\n",
    "    \n",
    "    # lasso\n",
    "    fitlasso = cv_optimize_lasso(xtrainsimple, ytrainsimple, n_folds=8)\n",
    "    alphalasso = fitlasso.best_params_['alpha']\n",
    "    clflasso = Lasso(alpha=alphalasso).fit(xtrainsimple,ytrainsimple)\n",
    "    predsLasso = clflasso.predict(xvalidatesimple)\n",
    "    prederrors = []\n",
    "    count = 0\n",
    "    for act in yvalidatesimple:\n",
    "        prederrors.append(float(predsLasso[count] - float(act)))\n",
    "        count = count + 1\n",
    "    lassomsessimple.append(np.mean(squarelist(prederrors)))\n",
    "    lassomadssimple.append(np.mean(abslist(prederrors)))  \n",
    "    coeffsLasso.append(clflasso)\n",
    "    \n",
    "    # enet\n",
    "    fitenet = cv_optimize_enet(xtrainsimple, forfitsimple[\"gap\"], n_folds=8)\n",
    "    alphaenet = fitenet.best_params_['alpha']\n",
    "    clfenet = ElasticNet(alpha=alphaenet).fit(xtrainsimple,forfitsimple[\"gap\"])\n",
    "    predsEnet = clfenet.predict(xvalidatesimple)\n",
    "    prederrors = []\n",
    "    count = 0\n",
    "    for act in yvalidatesimple:\n",
    "        prederrors.append(float(predsEnet[count] - float(act)))\n",
    "        count = count + 1\n",
    "    enetmsessimple.append(np.mean(squarelist(prederrors)))\n",
    "    enetmadssimple.append(np.mean(abslist(prederrors)))       \n",
    "    coeffsEnet.append(clfenet)\n",
    "    \n",
    "    \n",
    "    \n",
    "    "
   ]
  },
  {
   "cell_type": "markdown",
   "metadata": {},
   "source": [
    "***We ran the three sets of predictors on the following four models, to produce a total of 12 fit models.***\n",
    "\n",
    "- **OLS Regression: this is the simplest, go-to model, and we expect it to perform worse than the others, which might filter out unnecessary data well.**\n",
    "\n",
    "\n",
    "- **Ridge Regression: we used this because it ought to set the coefficients of less valuable predictors to near-zero values, which could produce excellent predictions given a large number of predictors.**\n",
    "\n",
    "\n",
    "- **Lasso Regression: we used this because it ought to set the coefficients of less valuable predictors to zero values, which could produce excellent predictions given a large number of predictors.**\n",
    "\n",
    "\n",
    "- **Elastic Net: we used this for similar reasons to the above.**\n",
    "\n",
    "***Again, we trained and validated each of these on the following three predictor sets:***\n",
    "\n",
    "- **Simple set**\n",
    "\n",
    "- **Intuitive set**\n",
    "\n",
    "- **All set**\n",
    "\n",
    "***The model statements for these three predictors sets are printed above.***"
   ]
  },
  {
   "cell_type": "code",
   "execution_count": 106,
   "metadata": {
    "collapsed": false
   },
   "outputs": [],
   "source": [
    "predesired_features=copy.deepcopy(newdesired_features)"
   ]
  },
  {
   "cell_type": "code",
   "execution_count": 107,
   "metadata": {
    "collapsed": false
   },
   "outputs": [],
   "source": [
    "forpredsimpleAll = pd.DataFrame(dftrain.gap)\n",
    "for xvar in predesired_features:\n",
    "    forpredsimpleAll[xvar] = dftrain[xvar]\n",
    "ytestsimple,xtestsimple = patsy.dmatrices(formulasimple, data=forpredsimpleAll)\n",
    "\n",
    "\n",
    "# Linear\n",
    "minIndex=olsmsessimple.index(min(olsmsessimple))\n",
    "fit=coeffsLinear[minIndex]\n",
    "predsLinearAll = fit.predict(forpredsimpleAll)\n",
    "\n",
    "\n",
    "# Ridge\n",
    "minIndex=ridgemsessimple.index(min(ridgemsessimple))\n",
    "clfRidge=coeffsRidge[minIndex]\n",
    "predsRidgeAll = clfRidge.predict(xtestsimple)\n",
    "\n",
    "# Lasso\n",
    "minIndex=lassomsessimple.index(min(lassomsessimple))\n",
    "clflasso=coeffsLasso[minIndex]\n",
    "predsLassoAll = clflasso.predict(xtestsimple)\n",
    "\n",
    "# Enet\n",
    "minIndex=enetmsessimple.index(min(enetmsessimple))\n",
    "clfEnet=coeffsEnet[minIndex]\n",
    "predsEnetAll = clfEnet.predict(xtestsimple)\n",
    "\n"
   ]
  },
  {
   "cell_type": "code",
   "execution_count": 111,
   "metadata": {
    "collapsed": false
   },
   "outputs": [],
   "source": [
    "%matplotlib inline\n",
    "import numpy as np\n",
    "import scipy as sp\n",
    "import matplotlib as mpl\n",
    "import matplotlib.cm as cm\n",
    "import matplotlib.pyplot as plt\n",
    "import pandas as pd\n",
    "import time\n",
    "pd.set_option('display.width', 500)\n",
    "pd.set_option('display.max_columns', 100)\n",
    "pd.set_option('display.notebook_repr_html', True)\n",
    "import seaborn as sns\n",
    "sns.set_style(\"whitegrid\")\n",
    "sns.set_context(\"poster\")\n",
    "from bs4 import BeautifulSoup\n",
    "import requests"
   ]
  },
  {
   "cell_type": "code",
   "execution_count": 112,
   "metadata": {
    "collapsed": false
   },
   "outputs": [
    {
     "name": "stdout",
     "output_type": "stream",
     "text": [
      "Cross Validation Root Avg. MSE Next Week's Price:\n"
     ]
    },
    {
     "data": {
      "text/html": [
       "<div>\n",
       "<table border=\"1\" class=\"dataframe\">\n",
       "  <thead>\n",
       "    <tr style=\"text-align: right;\">\n",
       "      <th></th>\n",
       "      <th>All</th>\n",
       "    </tr>\n",
       "  </thead>\n",
       "  <tbody>\n",
       "    <tr>\n",
       "      <th>OLS</th>\n",
       "      <td>0.09991</td>\n",
       "    </tr>\n",
       "    <tr>\n",
       "      <th>Ridge</th>\n",
       "      <td>0.09885</td>\n",
       "    </tr>\n",
       "    <tr>\n",
       "      <th>Lasso</th>\n",
       "      <td>0.09906</td>\n",
       "    </tr>\n",
       "    <tr>\n",
       "      <th>ElasticNet</th>\n",
       "      <td>0.09937</td>\n",
       "    </tr>\n",
       "  </tbody>\n",
       "</table>\n",
       "</div>"
      ],
      "text/plain": [
       "                All\n",
       "OLS         0.09991\n",
       "Ridge       0.09885\n",
       "Lasso       0.09906\n",
       "ElasticNet  0.09937"
      ]
     },
     "execution_count": 112,
     "metadata": {},
     "output_type": "execute_result"
    }
   ],
   "source": [
    "# Simple = [round(np.mean(olsmadssimpleweek),2), round(np.mean(ridgemadssimpleweek),2), \n",
    "# round(np.mean(lassomadssimpleweek),2), round(np.mean(enetmadssimpleweek),2)]\n",
    "# Intuitive = [round(np.mean(olsmadsintuitiveweek),2), round(np.mean(ridgemadsintuitiveweek),2), \n",
    "# round(np.mean(lassomadsintuitiveweek),2), round(np.mean(enetmadsintuitiveweek),2)]\n",
    "All = [round(np.mean(olsmsessimple),5), round(np.mean(ridgemsessimple),5), round(np.mean(lassomsessimple),5), round(np.mean(enetmsessimple),5)]\n",
    "\n",
    "MSEResultstableweek = pd.DataFrame()\n",
    "# MSEResultstableweek[\"Simple\"] = Simple\n",
    "# MSEResultstableweek[\"Intuitive\"] = Intuitive\n",
    "MSEResultstableweek[\"All\"] = All\n",
    "MSEResultstableweek.index = [\"OLS\",\"Ridge\",\"Lasso\", \"ElasticNet\"]\n",
    "print \"Cross Validation Root Avg. MSE Next Week's Price:\"\n",
    "MSEResultstableweek"
   ]
  },
  {
   "cell_type": "code",
   "execution_count": 113,
   "metadata": {
    "collapsed": false
   },
   "outputs": [
    {
     "name": "stdout",
     "output_type": "stream",
     "text": [
      "RMSE Results for Different Models of Next Week's Price:\n"
     ]
    },
    {
     "data": {
      "text/plain": [
       "<matplotlib.axes._subplots.AxesSubplot at 0x1781ba590>"
      ]
     },
     "execution_count": 113,
     "metadata": {},
     "output_type": "execute_result"
    },
    {
     "data": {
      "image/png": "[encoded data removed]",
      "text/plain": [
       "<matplotlib.figure.Figure at 0x1023b4990>"
      ]
     },
     "metadata": {},
     "output_type": "display_data"
    }
   ],
   "source": [
    "MSE = All\n",
    "forplottableweek = pd.DataFrame()\n",
    "forplottableweek[\"Root MSE\"] = MSE\n",
    "indices = [list(MSEResultstableweek.index)]\n",
    "forplottableweek.index = indices\n",
    "digits =  [\"All\",\"All\",\"All\", \"All\"]\n",
    "forplottableweek[\"Digits\"] = digits\n",
    "print \"RMSE Results for Different Models of Next Week's Price:\"\n",
    "sns.barplot(y = \"Root MSE\",x = digits, hue = forplottableweek.index.values, data = forplottableweek)"
   ]
  },
  {
   "cell_type": "code",
   "execution_count": 114,
   "metadata": {
    "collapsed": false
   },
   "outputs": [],
   "source": [
    "# dftrain.to_csv(\"train1.csv\")"
   ]
  },
  {
   "cell_type": "code",
   "execution_count": 115,
   "metadata": {
    "collapsed": true
   },
   "outputs": [],
   "source": [
    "def write_to_file(filename, predictions):\n",
    "    with open(filename, \"w\") as f:\n",
    "        f.write(\"Id,Prediction\\n\")\n",
    "        for i,p in enumerate(predictions):\n",
    "            f.write(str(i+1) + \",\" + str(p) + \"\\n\")"
   ]
  },
  {
   "cell_type": "code",
   "execution_count": 122,
   "metadata": {
    "collapsed": true
   },
   "outputs": [],
   "source": [
    "dftest1['gap']=0\n",
    "predesired_features.append('gap')"
   ]
  },
  {
   "cell_type": "code",
   "execution_count": 123,
   "metadata": {
    "collapsed": false
   },
   "outputs": [],
   "source": [
    "# newdesired_features.remove('gap')\n",
    "dftest2 = dftest1[predesired_features]"
   ]
  },
  {
   "cell_type": "code",
   "execution_count": 124,
   "metadata": {
    "collapsed": true
   },
   "outputs": [],
   "source": [
    "predsRidgeAll=predsRidgeAll.ravel()"
   ]
  },
  {
   "cell_type": "code",
   "execution_count": 125,
   "metadata": {
    "collapsed": false
   },
   "outputs": [],
   "source": [
    "errEnet=math.sqrt(sum((predsEnetAll-dftrain['gap'])**2)/lenTrain)\n",
    "errLasso=math.sqrt(sum((predsLassoAll-dftrain['gap'])**2)/lenTrain)\n",
    "errRidge=math.sqrt(sum((predsRidgeAll-dftrain['gap'])**2)/lenTrain)\n",
    "errLinear=math.sqrt(sum((predsLinearAll-dftrain['gap'])**2)/lenTrain)"
   ]
  },
  {
   "cell_type": "code",
   "execution_count": 126,
   "metadata": {
    "collapsed": false
   },
   "outputs": [],
   "source": [
    "forpredsimpleAll = pd.DataFrame(dftest2.gap)\n",
    "for xvar in predesired_features:\n",
    "    forpredsimpleAll[xvar] = dftrain[xvar]\n",
    "ytestsimple,xtestsimple = patsy.dmatrices(formulasimple, data=forpredsimpleAll)\n",
    "\n"
   ]
  },
  {
   "cell_type": "code",
   "execution_count": 127,
   "metadata": {
    "collapsed": false
   },
   "outputs": [],
   "source": [
    "error=[errLinear,errLasso,errRidge,errEnet]\n",
    "\n",
    "bestmodel=[fit,clflasso,clfRidge,clfEnet][error.index(min(error))]\n",
    "if error.index(min(error))==0:\n",
    "    predsBestModel = bestmodel.predict(dftest2)\n",
    "elif error.index(min(error))==2:\n",
    "    predsBestModel = bestmodel.predict(xtestsimple)\n",
    "    predsBestModel=predsBestModel.ravel()\n",
    "else:\n",
    "    predsBestModel = bestmodel.predict(xtestsimple)"
   ]
  },
  {
   "cell_type": "code",
   "execution_count": 129,
   "metadata": {
    "collapsed": false
   },
   "outputs": [
    {
     "data": {
      "text/plain": [
       "array([ 1.7429361 ,  1.59786198,  1.66510141,  1.73375643,  2.00090825,\n",
       "        2.00731003,  2.40682141,  1.72420758,  2.14364576,  1.85998459,\n",
       "        1.77021043,  2.00090825,  2.3207271 ,  1.99905041,  1.60139688,\n",
       "        2.29712445,  2.0391523 ,  2.13326644,  2.15710887,  1.63006128,\n",
       "        1.72999516,  1.7429361 ,  2.04269479,  2.21358449,  1.74038175,\n",
       "        1.77800229,  2.09544673,  1.60780002,  1.80560598,  1.87248277,\n",
       "        1.77800229,  2.32472814,  1.67821516,  2.25334271,  1.75759886,\n",
       "        2.15710887,  1.63546412,  1.60780002,  2.43134048,  1.70707256,\n",
       "        2.25334271,  1.74260673,  2.15710887,  1.96504471,  1.72420758,\n",
       "        2.17124945,  2.0391523 ,  1.74647859,  2.15710887,  2.25334271,\n",
       "        2.25334271,  2.14884926,  1.75759886,  1.7429361 ,  1.31829443,\n",
       "        2.2010863 ,  2.14884926,  1.59313726,  2.14884926,  1.57440874,\n",
       "        1.57626658,  1.62026217,  1.54969918,  1.98217973,  2.14884926,\n",
       "        2.15710887,  2.18471257,  2.41252668,  1.7429361 ,  2.40682141,\n",
       "        1.75347981,  1.72420758,  2.25702256,  1.82870104,  1.93259309,\n",
       "        1.31829443,  1.59313726,  2.16724841,  2.15710887,  2.45368347,\n",
       "        2.01977219,  1.70786056,  1.75119572,  1.80560598,  1.59313726,\n",
       "        1.75504451,  2.04269479,  1.62546567,  2.51131486,  2.01362564,\n",
       "        2.07550199,  2.18471257,  1.31829443,  1.53097066,  2.00090825,\n",
       "        1.88458597,  1.95561234,  1.89121129,  1.77644463,  2.14629491,\n",
       "        1.89121129,  1.98217973,  2.0391523 ,  2.05257939,  2.14884926,\n",
       "        2.00090825,  1.49858943,  1.60308289,  2.41508102,  2.17645295,\n",
       "        2.29712445,  1.58019632,  2.05257939,  1.59313726,  2.03677157,\n",
       "        1.7429361 ,  2.14884926,  1.42646774,  1.45726361,  2.41508102,\n",
       "        1.7429361 ,  1.68400274,  2.17999544,  2.14884926,  2.11111645,\n",
       "        1.31936488,  1.69045532,  1.63323914,  1.72165323,  2.39215842,\n",
       "        1.77221471,  1.74260673,  2.00916787,  1.70235543,  2.00090825,\n",
       "        1.69763072,  1.7429361 ,  2.13418627,  1.65298388,  1.93687435,\n",
       "        1.60201244,  1.77221471,  1.97962538,  2.00722908,  2.29712445,\n",
       "        2.15710887,  1.51785692,  2.18471257,  2.0391523 ,  2.14884926,\n",
       "        1.59313726,  2.05055511,  1.84742956,  1.7429361 ,  1.69763072,\n",
       "        1.6789022 ,  1.60139688,  1.75759886,  2.12583001,  1.70451821,\n",
       "        1.84025416,  1.97135007,  1.57626658,  1.34756665,  1.92377007,\n",
       "        1.5733395 ,  1.85998459,  2.14884926,  1.62241587,  1.4250643 ,\n",
       "        1.99905041,  1.38302966,  2.25078837,  1.75759886,  1.84742956,\n",
       "        2.05002504,  1.72420758,  2.14629491,  2.41508102,  1.86785786,\n",
       "        2.25334271,  1.80560598,  1.36630155,  2.18471257,  2.10540171,\n",
       "        1.9796703 ,  2.02665411,  1.98217973,  1.99905041,  2.00090825,\n",
       "        1.75119572,  1.98624527,  2.25334271,  2.15710887,  1.9796703 ,\n",
       "        2.28462626,  1.59313726,  2.01301666,  1.7429361 ,  1.98321604,\n",
       "        1.57626658,  1.75119572,  1.57626658,  2.25334271,  1.75119572,\n",
       "        1.64149876,  1.57440874,  1.59313726,  2.12946915,  1.64149876,\n",
       "        2.25702256,  1.99905041,  1.95561234,  2.02016662,  2.40682141,\n",
       "        1.84742956,  1.72995913,  1.2771233 ,  1.63678163,  1.92570314,\n",
       "        1.75119572,  2.04741192,  2.40682141,  1.99905041,  1.71523576,\n",
       "        1.75181128,  2.25334271,  1.72355599,  1.72420758,  2.04269479,\n",
       "        2.17645295,  1.75181128,  1.65419264,  1.82870104,  1.9796703 ,\n",
       "        1.2771233 ,  1.89608543,  1.99905041,  2.0391523 ,  2.15710887,\n",
       "        1.72999516,  1.95561234,  1.59313726,  1.72420758,  1.89608543,\n",
       "        1.75759886,  1.98217973,  1.82870104,  1.74647859,  2.25334271,\n",
       "        2.00090825,  2.14884926,  2.15710887,  2.00090825,  1.63323914,\n",
       "        2.00090825,  2.03491373,  1.7429361 ,  1.82870104,  2.14884926,\n",
       "        2.15710887,  2.13872015,  1.84742956,  2.40426706,  2.14629491,\n",
       "        2.3207271 ,  2.21358449,  1.69694368,  1.63323914,  1.75181128,\n",
       "        1.7429361 ,  1.57626658,  1.57440874,  1.72420758,  2.51131486,\n",
       "        1.7429361 ,  1.7429361 ,  1.53323761,  1.31829443,  2.17645295,\n",
       "        1.75119572,  1.9796703 ,  1.72355599,  1.99570475,  1.65298388,\n",
       "        2.13046053,  1.98438743,  2.15710887,  2.02851195,  2.02497569,\n",
       "        1.16849558,  1.80560598,  1.70235543,  2.13326644,  2.00916787,\n",
       "        1.54969918,  1.71805902,  2.32472814,  2.00090825,  2.02497569,\n",
       "        1.59786198,  2.15710887,  1.57626658,  2.14884926,  2.44013037,\n",
       "        2.10354387,  2.02665411,  1.7429361 ,  2.08667319,  2.17348261,\n",
       "        1.78894282,  1.63323914,  2.00978343,  1.96504471,  2.00731003,\n",
       "        2.16724841,  2.15710887,  1.75119572,  1.72165323,  1.59313726,\n",
       "        1.66510141,  1.75181128,  2.02665411,  2.25702256,  1.75759886,\n",
       "        1.72355599,  1.72420758,  1.55913156,  1.75119572,  1.75181128,\n",
       "        2.28094641,  2.14884926,  2.3207271 ,  1.87248277,  1.87895041,\n",
       "        1.98217973,  1.20859747,  2.14884926,  2.41508102,  1.74647859,\n",
       "        1.72272369,  1.61712375,  1.85998459,  2.40682141,  2.17336833,\n",
       "        1.62241587,  1.83238089,  2.0391523 ,  2.02448931,  1.87248277,\n",
       "        2.40682141,  1.98217973,  2.01145196,  1.94311415,  1.95560287,\n",
       "        2.0391523 ,  1.89121129,  1.90187301,  1.52426006,  1.57440874,\n",
       "        1.7429361 ,  2.14884926,  2.08650074,  1.59313726,  2.14884926,\n",
       "        1.95561234,  1.60139688,  2.0391523 ,  2.07101457,  2.18471257,\n",
       "        1.63678163,  2.14364576,  2.15710887,  2.15710887,  2.03018686,\n",
       "        1.99905041,  1.64198513,  2.1269148 ,  1.99905041,  2.41884229,\n",
       "        2.08770949,  2.14884926,  1.84025416,  1.74647859,  2.10354387,\n",
       "        1.31829443,  2.17999544,  1.99905041,  2.00090825,  1.72999516,\n",
       "        2.15710887,  2.17645295,  1.90008647,  2.0391523 ,  2.03018686,\n",
       "        2.15239175,  2.14884926,  1.9204899 ,  1.59313726,  2.01557101,\n",
       "        2.02497569,  2.16724841,  2.12946915,  1.9796703 ,  2.14884926,\n",
       "        1.77021043,  1.31536734,  2.15710887,  1.32408201,  2.00090825,\n",
       "        2.04741192,  1.95137377,  2.40426706,  1.99264841,  1.65001956,\n",
       "        1.78894282,  2.15710887,  2.3483308 ,  2.04760761,  1.59313726,\n",
       "        1.84742956,  1.89608543,  1.88038802,  1.72420758,  1.72527804,\n",
       "        1.77800229,  2.41508102,  1.7429361 ,  1.7429361 ,  2.17348261,\n",
       "        1.71900408,  1.72165323,  2.13872015,  2.15710887,  2.12946915,\n",
       "        2.3966923 ,  2.41508102,  1.58019632,  2.14884926,  1.99905041,\n",
       "        2.17645295,  1.7429361 ,  2.13418627,  1.85784283,  1.82870104,\n",
       "        1.74660778,  2.15710887,  1.88093808,  1.96504471,  2.04741192,\n",
       "        1.94311415,  1.9796703 ,  1.75759886,  1.72355599,  2.40161791,\n",
       "        1.7429361 ,  1.57626658,  1.72527804,  2.21936075,  2.17348261,\n",
       "        1.57626658,  1.72420758,  2.40682141,  1.75119572,  2.14884926,\n",
       "        2.08667319,  1.7429361 ,  2.40682141,  1.75462851,  1.95137377,\n",
       "        2.11111645,  2.04741192,  1.99905041,  1.57626658,  2.03491373,\n",
       "        1.74864137,  1.36630155,  2.14884926,  2.08667319,  1.74647859,\n",
       "        2.01557101,  1.47447486,  2.1498374 ,  2.16724841,  2.17336833,\n",
       "        2.0025929 ,  2.02763251,  2.00090825,  1.5920744 ,  2.14884926,\n",
       "        2.17348261,  2.10540171,  1.82870104,  1.72355599,  2.01557101,\n",
       "        2.18471257,  2.14884926,  1.99905041,  1.64464196,  1.99905041,\n",
       "        1.82870104,  1.89608543,  2.02851195,  1.21650271,  2.00731003,\n",
       "        1.99905041,  2.11172254,  2.25334271,  1.75347981,  2.17348261,\n",
       "        1.5733395 ,  2.40426706,  1.88226507,  1.6789022 ,  1.96447804,\n",
       "        1.68303645,  2.02665411,  1.7429361 ,  1.31829443,  1.95137377,\n",
       "        2.40682141,  2.3483308 ,  1.61650819,  1.58019632,  2.02000391,\n",
       "        1.72355599,  1.36630155,  2.17336833,  2.14884926,  2.02000391,\n",
       "        1.98217973,  1.63323914,  1.33988983,  1.72999516,  2.1498374 ,\n",
       "        1.70235543,  2.02242134,  1.63943079,  1.71900408,  1.3516857 ,\n",
       "        2.40682141,  1.7429361 ,  1.68303645,  1.4250643 ,  1.89121129,\n",
       "        1.61906253,  2.13418627,  2.15710887,  2.18471257,  1.6055388 ,\n",
       "        1.7429361 ,  2.0391523 ,  1.84742956,  2.44268472,  1.98217973,\n",
       "        2.25702256,  1.7429361 ,  1.33410225,  1.91481395,  1.7429361 ,\n",
       "        1.57626658,  1.99905041,  1.5733395 ,  2.25078837,  1.61409076,\n",
       "        1.72420758,  2.19892151,  1.42278788,  1.77408229,  2.15710887,\n",
       "        2.40315717,  2.15710887,  1.7429361 ,  2.14884926,  1.81654651,\n",
       "        1.31829443,  2.14884926,  1.7429361 ,  2.14619826,  1.60780002,\n",
       "        2.14884926,  1.75119572,  2.12946915,  1.30746477,  1.77644463,\n",
       "        2.14884926,  2.40682141,  2.25334271,  2.17348261,  1.97135007,\n",
       "        1.56543692,  2.28409598,  2.18471257,  1.53675824,  1.84742956,\n",
       "        2.29712445,  2.00090825,  1.9983539 ,  1.65001956,  1.8996666 ,\n",
       "        1.80560598,  2.15710887,  2.51131486,  1.60780002,  1.66084284,\n",
       "        2.00090825,  2.00916787,  2.21358449,  1.69694368,  1.7429361 ,\n",
       "        2.15239175,  1.60201244,  2.04741192,  2.29712445,  1.63323914,\n",
       "        2.04741192,  1.72420758,  1.75759886,  1.31829443,  2.15455453,\n",
       "        2.53636421,  2.01977219,  2.25334271,  1.75759886,  1.7429361 ,\n",
       "        2.03491373,  1.72420758,  1.64838827,  1.31936488,  2.14619826,\n",
       "        2.13418627,  2.25334271,  1.83238089,  2.02000391,  2.13872015,\n",
       "        2.02612383,  1.31829443,  1.93687435,  1.89947091,  2.0391523 ,\n",
       "        2.15710887,  1.7429361 ,  1.94311415,  1.32152766,  1.7429361 ,\n",
       "        2.14884926,  2.00978343,  1.74884093,  1.82870104,  1.72420758,\n",
       "        2.14884926,  1.7429361 ,  1.7429361 ,  1.72420758,  1.31829443,\n",
       "        1.89121129,  2.40682141,  1.57440874,  1.39501173,  1.98217973,\n",
       "        2.05257939,  2.15455453,  2.4344251 ,  2.17999544,  1.72999516,\n",
       "        2.02763251,  2.12946915,  1.72420758,  1.7052033 ,  1.7429361 ,\n",
       "        2.02497569,  1.60387027,  1.54969918,  2.29712445,  1.72165323,\n",
       "        1.91527873,  1.5920744 ,  2.15707284,  1.7429361 ,  1.72420758,\n",
       "        1.72827312,  2.1269148 ,  1.91481395,  1.58205416,  2.02000391,\n",
       "        1.5579588 ,  2.00090825,  1.72420758,  2.02242134,  1.87206291,\n",
       "        1.36630155,  2.15707284,  1.9983539 ,  1.47502493,  1.75181128,\n",
       "        2.12946915,  2.0905154 ,  2.13418627,  1.91551045,  2.14884926,\n",
       "        2.03597444,  1.57626658,  2.04741192,  1.7429361 ,  2.14884926,\n",
       "        1.60201244,  1.76133525,  2.18471257,  1.75181128,  1.84742956,\n",
       "        1.7429361 ,  1.91881499,  2.18215822,  2.15710887,  1.69231316,\n",
       "        2.17645295,  1.72999516,  1.42278788,  1.7429361 ,  1.31829443,\n",
       "        2.04741192,  1.98217973,  1.71805902,  1.64004635,  1.74647859,\n",
       "        1.56436194,  2.07550199,  2.25334271,  2.02665411,  1.91527873,\n",
       "        2.33298776,  2.17645295,  1.87248277,  2.02000391,  1.98624527,\n",
       "        2.22184411,  2.08770949,  2.02016662,  1.60201244,  1.85110941,\n",
       "        1.84025416,  1.92377007,  2.06675599,  1.65580714,  2.40682141,\n",
       "        1.72999516,  2.15455453,  2.15710887,  1.49595985,  1.31829443,\n",
       "        1.9983539 ,  1.78894282,  2.25334271,  1.72420758,  1.72999516,\n",
       "        2.14884926,  2.13872015,  2.13326644,  1.75119572,  1.77221471,\n",
       "        1.72735329,  1.72420758,  2.29712445,  1.66510141,  1.82870104,\n",
       "        1.71523576,  1.2065295 ,  1.31936488,  1.85998459,  1.74260673,\n",
       "        2.17645295,  1.57440874,  2.01557101,  2.25078837,  2.14884926,\n",
       "        2.25334271,  1.77800229,  2.02497569,  1.96580503,  1.81985073,\n",
       "        2.40682141,  2.17645295,  2.27159779,  1.82870104,  2.03018686,\n",
       "        1.72420758,  1.7429361 ,  2.00722908,  2.00090825,  1.65298388,\n",
       "        1.77800229,  2.40682141,  1.62241587,  2.18471257,  1.67150455,\n",
       "        1.29644228,  1.65419264,  1.7429361 ,  1.75119572,  2.3207271 ,\n",
       "        1.57626658,  1.7429361 ,  2.25334271,  1.45106912,  2.14884926,\n",
       "        1.66830533,  2.07101457,  1.76756945,  2.15710887,  2.16724841,\n",
       "        2.0391523 ,  2.40682141,  1.7429361 ,  1.72420758,  2.18471257,\n",
       "        1.72420758,  1.97962538,  1.66251775,  2.02000391,  1.2771233 ,\n",
       "        1.31829443,  1.62241587,  1.72420758,  1.72527804,  1.72999516,\n",
       "        1.42278788,  2.40315717,  2.12946915,  2.14875261,  1.90008647,\n",
       "        1.7429361 ,  2.02497569,  1.87248277,  2.2010863 ,  1.99905041,\n",
       "        2.12114891,  2.15710887,  2.15710887,  1.61451062,  1.75759886,\n",
       "        1.75119572,  2.0391523 ,  1.31936488,  2.02665411,  1.7429361 ,\n",
       "        1.80468615,  2.07501561,  2.40682141,  2.14884926,  1.49017227,\n",
       "        2.00978343,  1.7429361 ,  1.72827312,  2.1948521 ,  2.11859457,\n",
       "        2.40682141,  1.67150455,  1.56436194,  1.80560598,  1.7429361 ,\n",
       "        2.40682141,  2.16724841,  1.64318477,  1.58651193,  2.09822631,\n",
       "        1.59313726,  1.61451062,  1.53323761,  1.72420758,  1.71523576,\n",
       "        1.7429361 ,  1.72165323,  1.57440874,  1.71337792,  1.75759886,\n",
       "        1.92377007,  2.20735029,  2.0301966 ,  1.89121129,  1.07646428,\n",
       "        2.14884926,  1.59599271,  1.36630155,  1.62546567,  1.7705398 ,\n",
       "        2.14884926,  1.7429361 ,  1.82614669,  2.02000391,  2.14884926,\n",
       "        2.00916787,  2.12946915,  1.6242737 ,  1.75119572,  1.72827312,\n",
       "        1.98217973,  2.40682141,  2.1498374 ,  2.16724841,  1.59313726,\n",
       "        1.82614669,  2.12946915,  2.15710887,  1.33988983,  2.02000391,\n",
       "        2.15710887,  1.99905041,  2.14884926,  1.72420758,  2.4292216 ,\n",
       "        2.14884926,  1.75759886,  2.15710887,  1.59313726,  2.15710887,\n",
       "        2.17645295,  1.29644228,  1.67462094,  2.10354387,  2.13872015,\n",
       "        1.95561234,  2.02665411,  2.40682141,  2.07501561,  1.74260673,\n",
       "        1.75119572,  1.70235543,  2.41508102,  1.79224704,  2.00090825,\n",
       "        2.13418627,  1.90415201,  2.15710887,  1.95561234,  1.77800229,\n",
       "        1.43434101,  2.51131486,  2.02448931,  1.98796731,  2.04741192,\n",
       "        1.31829443,  1.71805902,  1.72999516,  1.70235543,  1.72420758,\n",
       "        2.10354387,  2.29712445,  1.62241587,  2.25334271,  2.00731003,\n",
       "        2.14884926,  2.1738986 ,  2.02000391,  1.16849558,  2.17348261,\n",
       "        2.18471257,  1.94311415,  2.10284736,  1.42278788,  1.9204899 ,\n",
       "        2.17645295,  1.59313726,  1.75119572,  1.89121129,  1.84742956,\n",
       "        2.25702256,  2.04741192,  1.75181128,  1.53869132,  1.72420758,\n",
       "        1.72420758,  1.7429361 ,  1.98217973,  1.7429361 ,  2.15710887,\n",
       "        2.00090825,  2.17645295,  2.03491373,  2.13418627,  2.5049366 ,\n",
       "        1.99905041,  2.02665411,  2.18471257,  1.2771233 ,  1.59313726,\n",
       "        1.82870104,  2.07501561,  2.41508102,  1.31829443,  1.78253616,\n",
       "        2.14884926,  2.23495399,  1.89608543,  1.64390086,  1.9796703 ,\n",
       "        2.10354387,  1.84487521,  2.02763251,  1.57626658,  1.75119572])"
      ]
     },
     "execution_count": 129,
     "metadata": {},
     "output_type": "execute_result"
    }
   ],
   "source": [
    "# error=[newdftrain['errLinear'].mean(),newdftrain['errLasso'].mean(),newdftrain['errRidge'].mean(),newdftrain['errEnet'].mean()]\n",
    "predsBestModel"
   ]
  },
  {
   "cell_type": "code",
   "execution_count": 105,
   "metadata": {
    "collapsed": false
   },
   "outputs": [],
   "source": [
    "# We need to submit best1.csv\n",
    "write_to_file(\"best1.csv\", predsBestModel)"
   ]
  },
  {
   "cell_type": "code",
   "execution_count": null,
   "metadata": {
    "collapsed": true
   },
   "outputs": [],
   "source": []
  }
 ],
 "metadata": {
  "kernelspec": {
   "display_name": "Python 2",
   "language": "python",
   "name": "python2"
  },
  "language_info": {
   "codemirror_mode": {
    "name": "ipython",
    "version": 2
   },
   "file_extension": ".py",
   "mimetype": "text/x-python",
   "name": "python",
   "nbconvert_exporter": "python",
   "pygments_lexer": "ipython2",
   "version": "2.7.11"
  }
 },
 "nbformat": 4,
 "nbformat_minor": 0
}
